{
 "cells": [
  {
   "cell_type": "markdown",
   "metadata": {},
   "source": [
    "https://www.kaggle.com/hmavrodiev/london-bike-sharing-dataset\n",
    "\n",
    "● Description of your dataset: resource, dimension, variable description, etc.\n",
    "\n",
    "Description of Dataset: The London Bike Sharing Dataset combines bike data from Transport for London, weather data from freemeteo.com, and holiday data from the UK government website into a single dataset that can be retrieved from Kaggle. The dataset is a time-series data grouped by a timestamp field with rows delimited by hours that spans from 2015 to 2017, totaling 17414 rows. For each row (hour), the dataset has nine dimensions, including five quantitative variables and four categorical variables.\n",
    "The five quantitative variables include variable “cnt” indicating the count of a new bike shares in a given hour, variable “t1” revealing the temperature in degree Celsius, variable “t2” revealing the “feels like” temperature in degree Celsius, variable “hum” giving the humidity in percentage, and variable “windspeed” displaying the wind speed in kilometers per hour. The four categorical variables contain variable “weathercode” that classifies the weather by eight types in a given hour, variable “isholiday” that flags whether the time is during a holiday or not, variable “isweekend” that flags whether the time is during a weekend or not, and variable “season” that is categorized by the four metrological season (spring, summer, fall, winter).\n",
    "\n",
    "\n",
    "● Statement of the research questions, and a summary of methods being used in the analysis\n",
    "\n",
    "The research question is to understand the different factors affecting the bike usage at a given time and to predict the future bike usage using the training dataset retrieved. The methodology is primarily based on multiple linear regression model with “cnt” being the dependent variable, but other analytics procedures will be conducted before applying the model. For example, basic exploratory data analysis on the dataset will be conducted and multiple visuals such as heatmap, bar graph, and scatter plot will be drawn to get an initial understanding among different variables. \n",
    "\n",
    "In addition, variance inflation factor will be tested before applying linear regression to spot for multicollinearity. Lastly, analysis of variance will be conducted.\n",
    "\n",
    "● The explanatory data analysis may include but not limited to graphs, demographic summaries, crosstables, individual tests, etc.. And some initial findings at this point.\n",
    "\n",
    "● Regression analysis that may include but not limited to multiple linear regression model and logistic regression model.\n"
   ]
  },
  {
   "cell_type": "markdown",
   "metadata": {},
   "source": [
    "\"timestamp\" - timestamp field for grouping the data\n",
    "\n",
    "\"cnt\" - the count of a new bike shares\n",
    "\n",
    "\"t1\" - real temperature in C\n",
    "\n",
    "\"t2\" - temperature in C \"feels like\"\n",
    "\n",
    "\"hum\" - humidity in percentage\n",
    "\n",
    "\"windspeed\" - wind speed in km/h\n",
    "\n",
    "\"weathercode\" - category of the weather\n",
    "\n",
    "\"isholiday\" - boolean field - 1 holiday / 0 non holiday   ##bealoon variable\n",
    "\n",
    "\"isweekend\" - boolean field - 1 if the day is weekend     ##categorical variable\n",
    "\n",
    "\"season\" - category field meteorological seasons: 0-spring ; 1-summer; 2-fall; 3-winter.  ##categorical variable\n",
    "\n",
    "\"weathe_code\" category description:\n",
    "1 = Clear ; mostly clear but have some values with haze/fog/patches of fog/ fog in vicinity 2 = scattered clouds / few clouds 3 = Broken clouds 4 = Cloudy 7 = Rain/ light Rain shower/ Light rain 10 = rain with thunderstorm 26 = snowfall 94 = Freezing Fog"
   ]
  },
  {
   "cell_type": "code",
   "execution_count": 1,
   "metadata": {
    "ExecuteTime": {
     "end_time": "2021-10-15T21:23:12.920510Z",
     "start_time": "2021-10-15T21:23:11.527350Z"
    }
   },
   "outputs": [],
   "source": [
    "import matplotlib.pyplot as plt \n",
    "import pandas as pd\n",
    "import numpy as np\n",
    "import statsmodels.api as sm\n",
    "import statsmodels.formula.api as smf\n",
    "import scipy\n",
    "from statsmodels.stats.diagnostic import het_breuschpagan\n",
    "\n",
    "\n",
    "data = pd.read_csv(\"london_merged.csv\")"
   ]
  },
  {
   "cell_type": "code",
   "execution_count": 2,
   "metadata": {
    "ExecuteTime": {
     "end_time": "2021-10-15T21:23:12.935341Z",
     "start_time": "2021-10-15T21:23:12.922754Z"
    }
   },
   "outputs": [
    {
     "name": "stdout",
     "output_type": "stream",
     "text": [
      "<class 'pandas.core.frame.DataFrame'>\n",
      "RangeIndex: 17414 entries, 0 to 17413\n",
      "Data columns (total 10 columns):\n",
      " #   Column        Non-Null Count  Dtype  \n",
      "---  ------        --------------  -----  \n",
      " 0   timestamp     17414 non-null  object \n",
      " 1   cnt           17414 non-null  int64  \n",
      " 2   t1            17414 non-null  float64\n",
      " 3   t2            17414 non-null  float64\n",
      " 4   hum           17414 non-null  float64\n",
      " 5   wind_speed    17414 non-null  float64\n",
      " 6   weather_code  17414 non-null  float64\n",
      " 7   is_holiday    17414 non-null  float64\n",
      " 8   is_weekend    17414 non-null  float64\n",
      " 9   season        17414 non-null  float64\n",
      "dtypes: float64(8), int64(1), object(1)\n",
      "memory usage: 1.3+ MB\n"
     ]
    }
   ],
   "source": [
    "data.info()"
   ]
  },
  {
   "cell_type": "code",
   "execution_count": 3,
   "metadata": {
    "ExecuteTime": {
     "end_time": "2021-10-15T21:23:12.949025Z",
     "start_time": "2021-10-15T21:23:12.938170Z"
    }
   },
   "outputs": [
    {
     "data": {
      "text/plain": [
       "timestamp       False\n",
       "cnt             False\n",
       "t1              False\n",
       "t2              False\n",
       "hum             False\n",
       "wind_speed      False\n",
       "weather_code    False\n",
       "is_holiday      False\n",
       "is_weekend      False\n",
       "season          False\n",
       "dtype: bool"
      ]
     },
     "execution_count": 3,
     "metadata": {},
     "output_type": "execute_result"
    }
   ],
   "source": [
    "data.shape\n",
    "data.isnull().any()"
   ]
  },
  {
   "cell_type": "code",
   "execution_count": 4,
   "metadata": {
    "ExecuteTime": {
     "end_time": "2021-10-15T21:23:12.968693Z",
     "start_time": "2021-10-15T21:23:12.951967Z"
    }
   },
   "outputs": [
    {
     "data": {
      "text/html": [
       "<div>\n",
       "<style scoped>\n",
       "    .dataframe tbody tr th:only-of-type {\n",
       "        vertical-align: middle;\n",
       "    }\n",
       "\n",
       "    .dataframe tbody tr th {\n",
       "        vertical-align: top;\n",
       "    }\n",
       "\n",
       "    .dataframe thead th {\n",
       "        text-align: right;\n",
       "    }\n",
       "</style>\n",
       "<table border=\"1\" class=\"dataframe\">\n",
       "  <thead>\n",
       "    <tr style=\"text-align: right;\">\n",
       "      <th></th>\n",
       "      <th>timestamp</th>\n",
       "      <th>cnt</th>\n",
       "      <th>t1</th>\n",
       "      <th>t2</th>\n",
       "      <th>hum</th>\n",
       "      <th>wind_speed</th>\n",
       "      <th>weather_code</th>\n",
       "      <th>is_holiday</th>\n",
       "      <th>is_weekend</th>\n",
       "      <th>season</th>\n",
       "    </tr>\n",
       "  </thead>\n",
       "  <tbody>\n",
       "    <tr>\n",
       "      <th>9907</th>\n",
       "      <td>2016-02-23 00:00:00</td>\n",
       "      <td>106</td>\n",
       "      <td>6.0</td>\n",
       "      <td>3.5</td>\n",
       "      <td>63.5</td>\n",
       "      <td>12.0</td>\n",
       "      <td>1.0</td>\n",
       "      <td>0.0</td>\n",
       "      <td>0.0</td>\n",
       "      <td>3.0</td>\n",
       "    </tr>\n",
       "    <tr>\n",
       "      <th>4440</th>\n",
       "      <td>2015-07-08 11:00:00</td>\n",
       "      <td>1209</td>\n",
       "      <td>19.0</td>\n",
       "      <td>19.0</td>\n",
       "      <td>60.0</td>\n",
       "      <td>29.0</td>\n",
       "      <td>3.0</td>\n",
       "      <td>0.0</td>\n",
       "      <td>0.0</td>\n",
       "      <td>1.0</td>\n",
       "    </tr>\n",
       "    <tr>\n",
       "      <th>9184</th>\n",
       "      <td>2016-01-23 13:00:00</td>\n",
       "      <td>1703</td>\n",
       "      <td>10.5</td>\n",
       "      <td>10.0</td>\n",
       "      <td>79.5</td>\n",
       "      <td>11.0</td>\n",
       "      <td>4.0</td>\n",
       "      <td>0.0</td>\n",
       "      <td>1.0</td>\n",
       "      <td>3.0</td>\n",
       "    </tr>\n",
       "    <tr>\n",
       "      <th>1536</th>\n",
       "      <td>2015-03-09 02:00:00</td>\n",
       "      <td>33</td>\n",
       "      <td>5.5</td>\n",
       "      <td>3.5</td>\n",
       "      <td>81.0</td>\n",
       "      <td>8.0</td>\n",
       "      <td>1.0</td>\n",
       "      <td>0.0</td>\n",
       "      <td>0.0</td>\n",
       "      <td>0.0</td>\n",
       "    </tr>\n",
       "    <tr>\n",
       "      <th>2577</th>\n",
       "      <td>2015-04-21 17:00:00</td>\n",
       "      <td>4148</td>\n",
       "      <td>15.5</td>\n",
       "      <td>15.5</td>\n",
       "      <td>53.5</td>\n",
       "      <td>19.5</td>\n",
       "      <td>1.0</td>\n",
       "      <td>0.0</td>\n",
       "      <td>0.0</td>\n",
       "      <td>0.0</td>\n",
       "    </tr>\n",
       "  </tbody>\n",
       "</table>\n",
       "</div>"
      ],
      "text/plain": [
       "                timestamp   cnt    t1    t2   hum  wind_speed  weather_code  \\\n",
       "9907  2016-02-23 00:00:00   106   6.0   3.5  63.5        12.0           1.0   \n",
       "4440  2015-07-08 11:00:00  1209  19.0  19.0  60.0        29.0           3.0   \n",
       "9184  2016-01-23 13:00:00  1703  10.5  10.0  79.5        11.0           4.0   \n",
       "1536  2015-03-09 02:00:00    33   5.5   3.5  81.0         8.0           1.0   \n",
       "2577  2015-04-21 17:00:00  4148  15.5  15.5  53.5        19.5           1.0   \n",
       "\n",
       "      is_holiday  is_weekend  season  \n",
       "9907         0.0         0.0     3.0  \n",
       "4440         0.0         0.0     1.0  \n",
       "9184         0.0         1.0     3.0  \n",
       "1536         0.0         0.0     0.0  \n",
       "2577         0.0         0.0     0.0  "
      ]
     },
     "execution_count": 4,
     "metadata": {},
     "output_type": "execute_result"
    }
   ],
   "source": [
    "data.sample(5)"
   ]
  },
  {
   "cell_type": "code",
   "execution_count": 5,
   "metadata": {
    "ExecuteTime": {
     "end_time": "2021-10-15T21:23:12.986022Z",
     "start_time": "2021-10-15T21:23:12.970913Z"
    }
   },
   "outputs": [
    {
     "name": "stdout",
     "output_type": "stream",
     "text": [
      "<class 'pandas.core.frame.DataFrame'>\n",
      "RangeIndex: 17414 entries, 0 to 17413\n",
      "Data columns (total 10 columns):\n",
      " #   Column        Non-Null Count  Dtype         \n",
      "---  ------        --------------  -----         \n",
      " 0   timestamp     17414 non-null  datetime64[ns]\n",
      " 1   cnt           17414 non-null  int64         \n",
      " 2   t1            17414 non-null  float64       \n",
      " 3   t2            17414 non-null  float64       \n",
      " 4   hum           17414 non-null  float64       \n",
      " 5   wind_speed    17414 non-null  float64       \n",
      " 6   weather_code  17414 non-null  float64       \n",
      " 7   is_holiday    17414 non-null  float64       \n",
      " 8   is_weekend    17414 non-null  float64       \n",
      " 9   season        17414 non-null  float64       \n",
      "dtypes: datetime64[ns](1), float64(8), int64(1)\n",
      "memory usage: 1.3 MB\n"
     ]
    }
   ],
   "source": [
    "data[\"timestamp\"] = pd.to_datetime(data[\"timestamp\"])\n",
    "data.info()"
   ]
  },
  {
   "cell_type": "code",
   "execution_count": 6,
   "metadata": {
    "ExecuteTime": {
     "end_time": "2021-10-15T21:23:12.993727Z",
     "start_time": "2021-10-15T21:23:12.987921Z"
    }
   },
   "outputs": [
    {
     "data": {
      "text/plain": [
       "([0.0, 1.0, 2.0, 3.0], [1.0, 2.0, 3.0, 4.0, 7.0, 10.0, 26.0])"
      ]
     },
     "execution_count": 6,
     "metadata": {},
     "output_type": "execute_result"
    }
   ],
   "source": [
    "sorted(data['season'].unique()),sorted(data['weather_code'].unique())"
   ]
  },
  {
   "cell_type": "code",
   "execution_count": 7,
   "metadata": {
    "ExecuteTime": {
     "end_time": "2021-10-15T21:23:13.639251Z",
     "start_time": "2021-10-15T21:23:12.995910Z"
    }
   },
   "outputs": [
    {
     "data": {
      "text/plain": [
       "<matplotlib.axes._subplots.AxesSubplot at 0x7faf20968fd0>"
      ]
     },
     "execution_count": 7,
     "metadata": {},
     "output_type": "execute_result"
    },
    {
     "data": {
      "image/png": "[encoded data removed]",
      "text/plain": [
       "<Figure size 1152x360 with 2 Axes>"
      ]
     },
     "metadata": {
      "needs_background": "light"
     },
     "output_type": "display_data"
    }
   ],
   "source": [
    "import seaborn as sns\n",
    "correlation_matrix = data.corr().round(2)\n",
    "plt.figure(figsize = (16,5))\n",
    "sns.heatmap(data=correlation_matrix, annot=True)"
   ]
  },
  {
   "cell_type": "code",
   "execution_count": 8,
   "metadata": {
    "ExecuteTime": {
     "end_time": "2021-10-15T21:23:14.092076Z",
     "start_time": "2021-10-15T21:23:13.643739Z"
    }
   },
   "outputs": [
    {
     "name": "stdout",
     "output_type": "stream",
     "text": [
      "    VIF Factor                 features\n",
      "0    79.139555                Intercept\n",
      "1     1.338807   C(weather_code)[T.2.0]\n",
      "2     1.447794   C(weather_code)[T.3.0]\n",
      "3     1.231866   C(weather_code)[T.4.0]\n",
      "4     1.470471   C(weather_code)[T.7.0]\n",
      "5     1.003010  C(weather_code)[T.10.0]\n",
      "6     1.023318  C(weather_code)[T.26.0]\n",
      "7     1.027471     C(is_holiday)[T.1.0]\n",
      "8     1.017796     C(is_weekend)[T.1.0]\n",
      "9     2.439167         C(season)[T.1.0]\n",
      "10    1.764904         C(season)[T.2.0]\n",
      "11    1.670345         C(season)[T.3.0]\n",
      "12    2.611878                       t1\n",
      "13    1.869471                      hum\n",
      "14    1.291169               wind_speed\n"
     ]
    }
   ],
   "source": [
    "# VIF\n",
    "from statsmodels.stats.outliers_influence import variance_inflation_factor\n",
    "from patsy import dmatrices\n",
    "y, X = dmatrices('cnt~t1+hum+wind_speed+C(weather_code)+C(is_holiday)+C(is_weekend)+C(season)', data=data, return_type='dataframe')\n",
    "\n",
    "vif = pd.DataFrame()\n",
    "vif[\"VIF Factor\"] = [variance_inflation_factor(X.values, i) for i in range(X.shape[1])]\n",
    "vif[\"features\"] = X.columns\n",
    "print(vif)"
   ]
  },
  {
   "cell_type": "code",
   "execution_count": 9,
   "metadata": {
    "ExecuteTime": {
     "end_time": "2021-10-15T21:23:14.295090Z",
     "start_time": "2021-10-15T21:23:14.096115Z"
    }
   },
   "outputs": [
    {
     "data": {
      "image/png": "[encoded data removed]",
      "text/plain": [
       "<Figure size 720x432 with 1 Axes>"
      ]
     },
     "metadata": {
      "needs_background": "light"
     },
     "output_type": "display_data"
    }
   ],
   "source": [
    "fig, ax = plt.subplots(figsize=(10,6))\n",
    "plt.title('The distribution of new bike shares count',size=14)\n",
    "ax.hist(data['cnt'],bins=15)\n",
    "ax.set_xlabel(\"the count of a new bike shares\",size=12)\n",
    "plt.show()"
   ]
  },
  {
   "cell_type": "code",
   "execution_count": 10,
   "metadata": {
    "ExecuteTime": {
     "end_time": "2021-10-15T21:23:15.401601Z",
     "start_time": "2021-10-15T21:23:14.297015Z"
    }
   },
   "outputs": [
    {
     "data": {
      "text/plain": [
       "<matplotlib.legend.Legend at 0x7faf1fb95810>"
      ]
     },
     "execution_count": 10,
     "metadata": {},
     "output_type": "execute_result"
    },
    {
     "data": {
      "image/png": "[encoded data removed]",
      "text/plain": [
       "<Figure size 720x576 with 1 Axes>"
      ]
     },
     "metadata": {
      "needs_background": "light"
     },
     "output_type": "display_data"
    }
   ],
   "source": [
    "import seaborn as sns\n",
    "from scipy import stats\n",
    "plt.figure(figsize=(10,8))\n",
    "slope, intercept, r_value, p_value, std_err = stats.linregress(data.hum,data.cnt)\n",
    "plt.title('Scatter plot between hum and cnt',size = 16)\n",
    "ax = sns.regplot(x=\"hum\", y=\"cnt\", data=data,scatter_kws={\"color\": \"#0C60B9\"},line_kws={'label':\"y={0:.1f}x+{1:.1f}\".format(slope,intercept),'color': '#C71611'})\n",
    "ax.set(xlabel='humidity', ylabel='the count of a new bike shares')\n",
    "ax.spines['top'].set_visible(False)\n",
    "ax.spines['right'].set_visible(False)\n",
    "ax.legend()"
   ]
  },
  {
   "cell_type": "code",
   "execution_count": 11,
   "metadata": {
    "ExecuteTime": {
     "end_time": "2021-10-15T21:23:16.327394Z",
     "start_time": "2021-10-15T21:23:15.403267Z"
    }
   },
   "outputs": [
    {
     "data": {
      "text/plain": [
       "<matplotlib.legend.Legend at 0x7faf1fea2390>"
      ]
     },
     "execution_count": 11,
     "metadata": {},
     "output_type": "execute_result"
    },
    {
     "data": {
      "image/png": "[encoded data removed]",
      "text/plain": [
       "<Figure size 720x576 with 1 Axes>"
      ]
     },
     "metadata": {
      "needs_background": "light"
     },
     "output_type": "display_data"
    }
   ],
   "source": [
    "import seaborn as sns\n",
    "from scipy import stats\n",
    "plt.figure(figsize=(10,8))\n",
    "slope, intercept, r_value, p_value, std_err = stats.linregress(data.t1,data.cnt)\n",
    "plt.title('Scatter plot between temp and cnt',size = 16)\n",
    "ax = sns.regplot(x=\"t1\", y=\"cnt\", data=data,scatter_kws={\"color\": \"#0C60B9\"},line_kws={'label':\"y={0:.1f}x+{1:.1f}\".format(slope,intercept),'color': '#C71611'})\n",
    "ax.set(xlabel='temperature', ylabel='the count of a new bike shares')\n",
    "ax.spines['top'].set_visible(False)\n",
    "ax.spines['right'].set_visible(False)\n",
    "ax.legend()"
   ]
  },
  {
   "cell_type": "code",
   "execution_count": 12,
   "metadata": {
    "ExecuteTime": {
     "end_time": "2021-10-15T21:23:16.676650Z",
     "start_time": "2021-10-15T21:23:16.329036Z"
    }
   },
   "outputs": [
    {
     "data": {
      "text/html": [
       "<table class=\"simpletable\">\n",
       "<caption>OLS Regression Results</caption>\n",
       "<tr>\n",
       "  <th>Dep. Variable:</th>           <td>cnt</td>       <th>  R-squared:         </th>  <td>   0.290</td>  \n",
       "</tr>\n",
       "<tr>\n",
       "  <th>Model:</th>                   <td>OLS</td>       <th>  Adj. R-squared:    </th>  <td>   0.289</td>  \n",
       "</tr>\n",
       "<tr>\n",
       "  <th>Method:</th>             <td>Least Squares</td>  <th>  F-statistic:       </th>  <td>   506.6</td>  \n",
       "</tr>\n",
       "<tr>\n",
       "  <th>Date:</th>             <td>Fri, 15 Oct 2021</td> <th>  Prob (F-statistic):</th>   <td>  0.00</td>   \n",
       "</tr>\n",
       "<tr>\n",
       "  <th>Time:</th>                 <td>14:23:16</td>     <th>  Log-Likelihood:    </th> <td>-1.4345e+05</td>\n",
       "</tr>\n",
       "<tr>\n",
       "  <th>No. Observations:</th>      <td> 17414</td>      <th>  AIC:               </th>  <td>2.869e+05</td> \n",
       "</tr>\n",
       "<tr>\n",
       "  <th>Df Residuals:</th>          <td> 17399</td>      <th>  BIC:               </th>  <td>2.870e+05</td> \n",
       "</tr>\n",
       "<tr>\n",
       "  <th>Df Model:</th>              <td>    14</td>      <th>                     </th>      <td> </td>     \n",
       "</tr>\n",
       "<tr>\n",
       "  <th>Covariance Type:</th>      <td>nonrobust</td>    <th>                     </th>      <td> </td>     \n",
       "</tr>\n",
       "</table>\n",
       "<table class=\"simpletable\">\n",
       "<tr>\n",
       "             <td></td>                <th>coef</th>     <th>std err</th>      <th>t</th>      <th>P>|t|</th>  <th>[0.025</th>    <th>0.975]</th>  \n",
       "</tr>\n",
       "<tr>\n",
       "  <th>Intercept</th>               <td> 2561.0622</td> <td>   61.680</td> <td>   41.522</td> <td> 0.000</td> <td> 2440.163</td> <td> 2681.962</td>\n",
       "</tr>\n",
       "<tr>\n",
       "  <th>C(weather_code)[T.2.0]</th>  <td>  280.1987</td> <td>   19.016</td> <td>   14.735</td> <td> 0.000</td> <td>  242.926</td> <td>  317.471</td>\n",
       "</tr>\n",
       "<tr>\n",
       "  <th>C(weather_code)[T.3.0]</th>  <td>  278.8253</td> <td>   20.706</td> <td>   13.466</td> <td> 0.000</td> <td>  238.239</td> <td>  319.411</td>\n",
       "</tr>\n",
       "<tr>\n",
       "  <th>C(weather_code)[T.4.0]</th>  <td>  -97.0909</td> <td>   27.732</td> <td>   -3.501</td> <td> 0.000</td> <td> -151.448</td> <td>  -42.734</td>\n",
       "</tr>\n",
       "<tr>\n",
       "  <th>C(weather_code)[T.7.0]</th>  <td>    5.0129</td> <td>   25.604</td> <td>    0.196</td> <td> 0.845</td> <td>  -45.173</td> <td>   55.199</td>\n",
       "</tr>\n",
       "<tr>\n",
       "  <th>C(weather_code)[T.10.0]</th> <td> -389.2944</td> <td>  244.998</td> <td>   -1.589</td> <td> 0.112</td> <td> -869.515</td> <td>   90.926</td>\n",
       "</tr>\n",
       "<tr>\n",
       "  <th>C(weather_code)[T.26.0]</th> <td>   27.2601</td> <td>  119.696</td> <td>    0.228</td> <td> 0.820</td> <td> -207.355</td> <td>  261.875</td>\n",
       "</tr>\n",
       "<tr>\n",
       "  <th>C(is_holiday)[T.1.0]</th>    <td> -259.2138</td> <td>   47.859</td> <td>   -5.416</td> <td> 0.000</td> <td> -353.021</td> <td> -165.406</td>\n",
       "</tr>\n",
       "<tr>\n",
       "  <th>C(is_weekend)[T.1.0]</th>    <td> -198.7065</td> <td>   15.489</td> <td>  -12.829</td> <td> 0.000</td> <td> -229.066</td> <td> -168.347</td>\n",
       "</tr>\n",
       "<tr>\n",
       "  <th>C(season)[T.1.0]</th>        <td> -123.8729</td> <td>   24.944</td> <td>   -4.966</td> <td> 0.000</td> <td> -172.765</td> <td>  -74.980</td>\n",
       "</tr>\n",
       "<tr>\n",
       "  <th>C(season)[T.2.0]</th>        <td>  113.7921</td> <td>   21.355</td> <td>    5.329</td> <td> 0.000</td> <td>   71.934</td> <td>  155.651</td>\n",
       "</tr>\n",
       "<tr>\n",
       "  <th>C(season)[T.3.0]</th>        <td>  135.4103</td> <td>   20.732</td> <td>    6.532</td> <td> 0.000</td> <td>   94.774</td> <td>  176.047</td>\n",
       "</tr>\n",
       "<tr>\n",
       "  <th>t1</th>                      <td>   52.8609</td> <td>    2.011</td> <td>   26.284</td> <td> 0.000</td> <td>   48.919</td> <td>   56.803</td>\n",
       "</tr>\n",
       "<tr>\n",
       "  <th>hum</th>                     <td>  -28.1949</td> <td>    0.662</td> <td>  -42.568</td> <td> 0.000</td> <td>  -29.493</td> <td>  -26.897</td>\n",
       "</tr>\n",
       "<tr>\n",
       "  <th>wind_speed</th>              <td>   -7.5405</td> <td>    0.998</td> <td>   -7.556</td> <td> 0.000</td> <td>   -9.497</td> <td>   -5.584</td>\n",
       "</tr>\n",
       "</table>\n",
       "<table class=\"simpletable\">\n",
       "<tr>\n",
       "  <th>Omnibus:</th>       <td>4812.852</td> <th>  Durbin-Watson:     </th> <td>   0.630</td> \n",
       "</tr>\n",
       "<tr>\n",
       "  <th>Prob(Omnibus):</th>  <td> 0.000</td>  <th>  Jarque-Bera (JB):  </th> <td>12224.414</td>\n",
       "</tr>\n",
       "<tr>\n",
       "  <th>Skew:</th>           <td> 1.515</td>  <th>  Prob(JB):          </th> <td>    0.00</td> \n",
       "</tr>\n",
       "<tr>\n",
       "  <th>Kurtosis:</th>       <td> 5.768</td>  <th>  Cond. No.          </th> <td>2.69e+03</td> \n",
       "</tr>\n",
       "</table><br/><br/>Warnings:<br/>[1] Standard Errors assume that the covariance matrix of the errors is correctly specified.<br/>[2] The condition number is large, 2.69e+03. This might indicate that there are<br/>strong multicollinearity or other numerical problems."
      ],
      "text/plain": [
       "<class 'statsmodels.iolib.summary.Summary'>\n",
       "\"\"\"\n",
       "                            OLS Regression Results                            \n",
       "==============================================================================\n",
       "Dep. Variable:                    cnt   R-squared:                       0.290\n",
       "Model:                            OLS   Adj. R-squared:                  0.289\n",
       "Method:                 Least Squares   F-statistic:                     506.6\n",
       "Date:                Fri, 15 Oct 2021   Prob (F-statistic):               0.00\n",
       "Time:                        14:23:16   Log-Likelihood:            -1.4345e+05\n",
       "No. Observations:               17414   AIC:                         2.869e+05\n",
       "Df Residuals:                   17399   BIC:                         2.870e+05\n",
       "Df Model:                          14                                         \n",
       "Covariance Type:            nonrobust                                         \n",
       "===========================================================================================\n",
       "                              coef    std err          t      P>|t|      [0.025      0.975]\n",
       "-------------------------------------------------------------------------------------------\n",
       "Intercept                2561.0622     61.680     41.522      0.000    2440.163    2681.962\n",
       "C(weather_code)[T.2.0]    280.1987     19.016     14.735      0.000     242.926     317.471\n",
       "C(weather_code)[T.3.0]    278.8253     20.706     13.466      0.000     238.239     319.411\n",
       "C(weather_code)[T.4.0]    -97.0909     27.732     -3.501      0.000    -151.448     -42.734\n",
       "C(weather_code)[T.7.0]      5.0129     25.604      0.196      0.845     -45.173      55.199\n",
       "C(weather_code)[T.10.0]  -389.2944    244.998     -1.589      0.112    -869.515      90.926\n",
       "C(weather_code)[T.26.0]    27.2601    119.696      0.228      0.820    -207.355     261.875\n",
       "C(is_holiday)[T.1.0]     -259.2138     47.859     -5.416      0.000    -353.021    -165.406\n",
       "C(is_weekend)[T.1.0]     -198.7065     15.489    -12.829      0.000    -229.066    -168.347\n",
       "C(season)[T.1.0]         -123.8729     24.944     -4.966      0.000    -172.765     -74.980\n",
       "C(season)[T.2.0]          113.7921     21.355      5.329      0.000      71.934     155.651\n",
       "C(season)[T.3.0]          135.4103     20.732      6.532      0.000      94.774     176.047\n",
       "t1                         52.8609      2.011     26.284      0.000      48.919      56.803\n",
       "hum                       -28.1949      0.662    -42.568      0.000     -29.493     -26.897\n",
       "wind_speed                 -7.5405      0.998     -7.556      0.000      -9.497      -5.584\n",
       "==============================================================================\n",
       "Omnibus:                     4812.852   Durbin-Watson:                   0.630\n",
       "Prob(Omnibus):                  0.000   Jarque-Bera (JB):            12224.414\n",
       "Skew:                           1.515   Prob(JB):                         0.00\n",
       "Kurtosis:                       5.768   Cond. No.                     2.69e+03\n",
       "==============================================================================\n",
       "\n",
       "Warnings:\n",
       "[1] Standard Errors assume that the covariance matrix of the errors is correctly specified.\n",
       "[2] The condition number is large, 2.69e+03. This might indicate that there are\n",
       "strong multicollinearity or other numerical problems.\n",
       "\"\"\""
      ]
     },
     "execution_count": 12,
     "metadata": {},
     "output_type": "execute_result"
    }
   ],
   "source": [
    "# delete the variable t2\n",
    "# fit the model\n",
    "model =smf.ols('cnt~t1+hum+wind_speed+C(weather_code)+C(is_holiday)+C(is_weekend)+C(season)',data=data).fit()\n",
    "model.summary()"
   ]
  },
  {
   "cell_type": "code",
   "execution_count": 13,
   "metadata": {
    "ExecuteTime": {
     "end_time": "2021-10-15T21:23:16.702696Z",
     "start_time": "2021-10-15T21:23:16.678586Z"
    }
   },
   "outputs": [
    {
     "data": {
      "text/html": [
       "<div>\n",
       "<style scoped>\n",
       "    .dataframe tbody tr th:only-of-type {\n",
       "        vertical-align: middle;\n",
       "    }\n",
       "\n",
       "    .dataframe tbody tr th {\n",
       "        vertical-align: top;\n",
       "    }\n",
       "\n",
       "    .dataframe thead th {\n",
       "        text-align: right;\n",
       "    }\n",
       "</style>\n",
       "<table border=\"1\" class=\"dataframe\">\n",
       "  <thead>\n",
       "    <tr style=\"text-align: right;\">\n",
       "      <th></th>\n",
       "      <th>df</th>\n",
       "      <th>sum_sq</th>\n",
       "      <th>mean_sq</th>\n",
       "      <th>F</th>\n",
       "      <th>PR(&gt;F)</th>\n",
       "    </tr>\n",
       "  </thead>\n",
       "  <tbody>\n",
       "    <tr>\n",
       "      <th>C(weather_code)</th>\n",
       "      <td>6.0</td>\n",
       "      <td>1.340602e+09</td>\n",
       "      <td>2.234336e+08</td>\n",
       "      <td>266.901330</td>\n",
       "      <td>0.000000e+00</td>\n",
       "    </tr>\n",
       "    <tr>\n",
       "      <th>C(is_holiday)</th>\n",
       "      <td>1.0</td>\n",
       "      <td>4.670732e+07</td>\n",
       "      <td>4.670732e+07</td>\n",
       "      <td>55.793956</td>\n",
       "      <td>8.428578e-14</td>\n",
       "    </tr>\n",
       "    <tr>\n",
       "      <th>C(is_weekend)</th>\n",
       "      <td>1.0</td>\n",
       "      <td>1.440971e+08</td>\n",
       "      <td>1.440971e+08</td>\n",
       "      <td>172.130387</td>\n",
       "      <td>3.887741e-39</td>\n",
       "    </tr>\n",
       "    <tr>\n",
       "      <th>C(season)</th>\n",
       "      <td>3.0</td>\n",
       "      <td>6.951784e+08</td>\n",
       "      <td>2.317261e+08</td>\n",
       "      <td>276.807075</td>\n",
       "      <td>1.582626e-175</td>\n",
       "    </tr>\n",
       "    <tr>\n",
       "      <th>t1</th>\n",
       "      <td>1.0</td>\n",
       "      <td>2.168369e+09</td>\n",
       "      <td>2.168369e+09</td>\n",
       "      <td>2590.212815</td>\n",
       "      <td>0.000000e+00</td>\n",
       "    </tr>\n",
       "    <tr>\n",
       "      <th>hum</th>\n",
       "      <td>1.0</td>\n",
       "      <td>1.494968e+09</td>\n",
       "      <td>1.494968e+09</td>\n",
       "      <td>1785.805003</td>\n",
       "      <td>0.000000e+00</td>\n",
       "    </tr>\n",
       "    <tr>\n",
       "      <th>wind_speed</th>\n",
       "      <td>1.0</td>\n",
       "      <td>4.779105e+07</td>\n",
       "      <td>4.779105e+07</td>\n",
       "      <td>57.088521</td>\n",
       "      <td>4.372701e-14</td>\n",
       "    </tr>\n",
       "    <tr>\n",
       "      <th>Residual</th>\n",
       "      <td>17399.0</td>\n",
       "      <td>1.456539e+10</td>\n",
       "      <td>8.371395e+05</td>\n",
       "      <td>NaN</td>\n",
       "      <td>NaN</td>\n",
       "    </tr>\n",
       "  </tbody>\n",
       "</table>\n",
       "</div>"
      ],
      "text/plain": [
       "                      df        sum_sq       mean_sq            F  \\\n",
       "C(weather_code)      6.0  1.340602e+09  2.234336e+08   266.901330   \n",
       "C(is_holiday)        1.0  4.670732e+07  4.670732e+07    55.793956   \n",
       "C(is_weekend)        1.0  1.440971e+08  1.440971e+08   172.130387   \n",
       "C(season)            3.0  6.951784e+08  2.317261e+08   276.807075   \n",
       "t1                   1.0  2.168369e+09  2.168369e+09  2590.212815   \n",
       "hum                  1.0  1.494968e+09  1.494968e+09  1785.805003   \n",
       "wind_speed           1.0  4.779105e+07  4.779105e+07    57.088521   \n",
       "Residual         17399.0  1.456539e+10  8.371395e+05          NaN   \n",
       "\n",
       "                        PR(>F)  \n",
       "C(weather_code)   0.000000e+00  \n",
       "C(is_holiday)     8.428578e-14  \n",
       "C(is_weekend)     3.887741e-39  \n",
       "C(season)        1.582626e-175  \n",
       "t1                0.000000e+00  \n",
       "hum               0.000000e+00  \n",
       "wind_speed        4.372701e-14  \n",
       "Residual                   NaN  "
      ]
     },
     "execution_count": 13,
     "metadata": {},
     "output_type": "execute_result"
    }
   ],
   "source": [
    "sm.stats.anova_lm(model, typ=1)"
   ]
  },
  {
   "cell_type": "code",
   "execution_count": 14,
   "metadata": {
    "ExecuteTime": {
     "end_time": "2021-10-15T21:23:16.741368Z",
     "start_time": "2021-10-15T21:23:16.704909Z"
    }
   },
   "outputs": [
    {
     "data": {
      "text/html": [
       "<div>\n",
       "<style scoped>\n",
       "    .dataframe tbody tr th:only-of-type {\n",
       "        vertical-align: middle;\n",
       "    }\n",
       "\n",
       "    .dataframe tbody tr th {\n",
       "        vertical-align: top;\n",
       "    }\n",
       "\n",
       "    .dataframe thead th {\n",
       "        text-align: right;\n",
       "    }\n",
       "</style>\n",
       "<table border=\"1\" class=\"dataframe\">\n",
       "  <thead>\n",
       "    <tr style=\"text-align: right;\">\n",
       "      <th></th>\n",
       "      <th>sum_sq</th>\n",
       "      <th>df</th>\n",
       "      <th>F</th>\n",
       "      <th>PR(&gt;F)</th>\n",
       "    </tr>\n",
       "  </thead>\n",
       "  <tbody>\n",
       "    <tr>\n",
       "      <th>Intercept</th>\n",
       "      <td>1.443262e+09</td>\n",
       "      <td>1.0</td>\n",
       "      <td>1724.040153</td>\n",
       "      <td>0.000000e+00</td>\n",
       "    </tr>\n",
       "    <tr>\n",
       "      <th>C(weather_code)</th>\n",
       "      <td>3.656272e+08</td>\n",
       "      <td>6.0</td>\n",
       "      <td>72.792963</td>\n",
       "      <td>4.898383e-90</td>\n",
       "    </tr>\n",
       "    <tr>\n",
       "      <th>C(is_holiday)</th>\n",
       "      <td>2.455807e+07</td>\n",
       "      <td>1.0</td>\n",
       "      <td>29.335699</td>\n",
       "      <td>6.167170e-08</td>\n",
       "    </tr>\n",
       "    <tr>\n",
       "      <th>C(is_weekend)</th>\n",
       "      <td>1.377785e+08</td>\n",
       "      <td>1.0</td>\n",
       "      <td>164.582447</td>\n",
       "      <td>1.669304e-37</td>\n",
       "    </tr>\n",
       "    <tr>\n",
       "      <th>C(season)</th>\n",
       "      <td>1.209438e+08</td>\n",
       "      <td>3.0</td>\n",
       "      <td>48.157573</td>\n",
       "      <td>5.504405e-31</td>\n",
       "    </tr>\n",
       "    <tr>\n",
       "      <th>t1</th>\n",
       "      <td>5.783403e+08</td>\n",
       "      <td>1.0</td>\n",
       "      <td>690.852925</td>\n",
       "      <td>2.371478e-149</td>\n",
       "    </tr>\n",
       "    <tr>\n",
       "      <th>hum</th>\n",
       "      <td>1.516944e+09</td>\n",
       "      <td>1.0</td>\n",
       "      <td>1812.056539</td>\n",
       "      <td>0.000000e+00</td>\n",
       "    </tr>\n",
       "    <tr>\n",
       "      <th>wind_speed</th>\n",
       "      <td>4.779105e+07</td>\n",
       "      <td>1.0</td>\n",
       "      <td>57.088521</td>\n",
       "      <td>4.372701e-14</td>\n",
       "    </tr>\n",
       "    <tr>\n",
       "      <th>Residual</th>\n",
       "      <td>1.456539e+10</td>\n",
       "      <td>17399.0</td>\n",
       "      <td>NaN</td>\n",
       "      <td>NaN</td>\n",
       "    </tr>\n",
       "  </tbody>\n",
       "</table>\n",
       "</div>"
      ],
      "text/plain": [
       "                       sum_sq       df            F         PR(>F)\n",
       "Intercept        1.443262e+09      1.0  1724.040153   0.000000e+00\n",
       "C(weather_code)  3.656272e+08      6.0    72.792963   4.898383e-90\n",
       "C(is_holiday)    2.455807e+07      1.0    29.335699   6.167170e-08\n",
       "C(is_weekend)    1.377785e+08      1.0   164.582447   1.669304e-37\n",
       "C(season)        1.209438e+08      3.0    48.157573   5.504405e-31\n",
       "t1               5.783403e+08      1.0   690.852925  2.371478e-149\n",
       "hum              1.516944e+09      1.0  1812.056539   0.000000e+00\n",
       "wind_speed       4.779105e+07      1.0    57.088521   4.372701e-14\n",
       "Residual         1.456539e+10  17399.0          NaN            NaN"
      ]
     },
     "execution_count": 14,
     "metadata": {},
     "output_type": "execute_result"
    }
   ],
   "source": [
    "sm.stats.anova_lm(model, typ=3)"
   ]
  },
  {
   "cell_type": "code",
   "execution_count": 15,
   "metadata": {
    "ExecuteTime": {
     "end_time": "2021-10-15T21:23:16.749145Z",
     "start_time": "2021-10-15T21:23:16.743848Z"
    }
   },
   "outputs": [],
   "source": [
    "# take nature log\n",
    "data['cnt_log'] = np.log(data['cnt']+1)"
   ]
  },
  {
   "cell_type": "code",
   "execution_count": 16,
   "metadata": {
    "ExecuteTime": {
     "end_time": "2021-10-15T21:23:17.136907Z",
     "start_time": "2021-10-15T21:23:16.751484Z"
    }
   },
   "outputs": [
    {
     "data": {
      "text/html": [
       "<table class=\"simpletable\">\n",
       "<caption>OLS Regression Results</caption>\n",
       "<tr>\n",
       "  <th>Dep. Variable:</th>         <td>cnt_log</td>     <th>  R-squared:         </th> <td>   0.328</td> \n",
       "</tr>\n",
       "<tr>\n",
       "  <th>Model:</th>                   <td>OLS</td>       <th>  Adj. R-squared:    </th> <td>   0.327</td> \n",
       "</tr>\n",
       "<tr>\n",
       "  <th>Method:</th>             <td>Least Squares</td>  <th>  F-statistic:       </th> <td>   606.0</td> \n",
       "</tr>\n",
       "<tr>\n",
       "  <th>Date:</th>             <td>Fri, 15 Oct 2021</td> <th>  Prob (F-statistic):</th>  <td>  0.00</td>  \n",
       "</tr>\n",
       "<tr>\n",
       "  <th>Time:</th>                 <td>14:23:17</td>     <th>  Log-Likelihood:    </th> <td> -25588.</td> \n",
       "</tr>\n",
       "<tr>\n",
       "  <th>No. Observations:</th>      <td> 17414</td>      <th>  AIC:               </th> <td>5.121e+04</td>\n",
       "</tr>\n",
       "<tr>\n",
       "  <th>Df Residuals:</th>          <td> 17399</td>      <th>  BIC:               </th> <td>5.132e+04</td>\n",
       "</tr>\n",
       "<tr>\n",
       "  <th>Df Model:</th>              <td>    14</td>      <th>                     </th>     <td> </td>    \n",
       "</tr>\n",
       "<tr>\n",
       "  <th>Covariance Type:</th>      <td>nonrobust</td>    <th>                     </th>     <td> </td>    \n",
       "</tr>\n",
       "</table>\n",
       "<table class=\"simpletable\">\n",
       "<tr>\n",
       "             <td></td>                <th>coef</th>     <th>std err</th>      <th>t</th>      <th>P>|t|</th>  <th>[0.025</th>    <th>0.975]</th>  \n",
       "</tr>\n",
       "<tr>\n",
       "  <th>Intercept</th>               <td>    8.1670</td> <td>    0.071</td> <td>  115.138</td> <td> 0.000</td> <td>    8.028</td> <td>    8.306</td>\n",
       "</tr>\n",
       "<tr>\n",
       "  <th>C(weather_code)[T.2.0]</th>  <td>    0.4704</td> <td>    0.022</td> <td>   21.512</td> <td> 0.000</td> <td>    0.428</td> <td>    0.513</td>\n",
       "</tr>\n",
       "<tr>\n",
       "  <th>C(weather_code)[T.3.0]</th>  <td>    0.5195</td> <td>    0.024</td> <td>   21.817</td> <td> 0.000</td> <td>    0.473</td> <td>    0.566</td>\n",
       "</tr>\n",
       "<tr>\n",
       "  <th>C(weather_code)[T.4.0]</th>  <td>   -0.0921</td> <td>    0.032</td> <td>   -2.887</td> <td> 0.004</td> <td>   -0.155</td> <td>   -0.030</td>\n",
       "</tr>\n",
       "<tr>\n",
       "  <th>C(weather_code)[T.7.0]</th>  <td>    0.1214</td> <td>    0.029</td> <td>    4.123</td> <td> 0.000</td> <td>    0.064</td> <td>    0.179</td>\n",
       "</tr>\n",
       "<tr>\n",
       "  <th>C(weather_code)[T.10.0]</th> <td>    0.1400</td> <td>    0.282</td> <td>    0.497</td> <td> 0.619</td> <td>   -0.412</td> <td>    0.692</td>\n",
       "</tr>\n",
       "<tr>\n",
       "  <th>C(weather_code)[T.26.0]</th> <td>   -0.6730</td> <td>    0.138</td> <td>   -4.889</td> <td> 0.000</td> <td>   -0.943</td> <td>   -0.403</td>\n",
       "</tr>\n",
       "<tr>\n",
       "  <th>C(is_holiday)[T.1.0]</th>    <td>   -0.2007</td> <td>    0.055</td> <td>   -3.647</td> <td> 0.000</td> <td>   -0.309</td> <td>   -0.093</td>\n",
       "</tr>\n",
       "<tr>\n",
       "  <th>C(is_weekend)[T.1.0]</th>    <td>   -0.0398</td> <td>    0.018</td> <td>   -2.233</td> <td> 0.026</td> <td>   -0.075</td> <td>   -0.005</td>\n",
       "</tr>\n",
       "<tr>\n",
       "  <th>C(season)[T.1.0]</th>        <td>   -0.2171</td> <td>    0.029</td> <td>   -7.568</td> <td> 0.000</td> <td>   -0.273</td> <td>   -0.161</td>\n",
       "</tr>\n",
       "<tr>\n",
       "  <th>C(season)[T.2.0]</th>        <td>    0.1806</td> <td>    0.025</td> <td>    7.353</td> <td> 0.000</td> <td>    0.132</td> <td>    0.229</td>\n",
       "</tr>\n",
       "<tr>\n",
       "  <th>C(season)[T.3.0]</th>        <td>    0.2640</td> <td>    0.024</td> <td>   11.074</td> <td> 0.000</td> <td>    0.217</td> <td>    0.311</td>\n",
       "</tr>\n",
       "<tr>\n",
       "  <th>t1</th>                      <td>    0.0641</td> <td>    0.002</td> <td>   27.734</td> <td> 0.000</td> <td>    0.060</td> <td>    0.069</td>\n",
       "</tr>\n",
       "<tr>\n",
       "  <th>hum</th>                     <td>   -0.0371</td> <td>    0.001</td> <td>  -48.673</td> <td> 0.000</td> <td>   -0.039</td> <td>   -0.036</td>\n",
       "</tr>\n",
       "<tr>\n",
       "  <th>wind_speed</th>              <td>   -0.0067</td> <td>    0.001</td> <td>   -5.806</td> <td> 0.000</td> <td>   -0.009</td> <td>   -0.004</td>\n",
       "</tr>\n",
       "</table>\n",
       "<table class=\"simpletable\">\n",
       "<tr>\n",
       "  <th>Omnibus:</th>       <td>310.925</td> <th>  Durbin-Watson:     </th> <td>   0.326</td>\n",
       "</tr>\n",
       "<tr>\n",
       "  <th>Prob(Omnibus):</th> <td> 0.000</td>  <th>  Jarque-Bera (JB):  </th> <td> 328.264</td>\n",
       "</tr>\n",
       "<tr>\n",
       "  <th>Skew:</th>          <td>-0.327</td>  <th>  Prob(JB):          </th> <td>5.23e-72</td>\n",
       "</tr>\n",
       "<tr>\n",
       "  <th>Kurtosis:</th>      <td> 3.160</td>  <th>  Cond. No.          </th> <td>2.69e+03</td>\n",
       "</tr>\n",
       "</table><br/><br/>Warnings:<br/>[1] Standard Errors assume that the covariance matrix of the errors is correctly specified.<br/>[2] The condition number is large, 2.69e+03. This might indicate that there are<br/>strong multicollinearity or other numerical problems."
      ],
      "text/plain": [
       "<class 'statsmodels.iolib.summary.Summary'>\n",
       "\"\"\"\n",
       "                            OLS Regression Results                            \n",
       "==============================================================================\n",
       "Dep. Variable:                cnt_log   R-squared:                       0.328\n",
       "Model:                            OLS   Adj. R-squared:                  0.327\n",
       "Method:                 Least Squares   F-statistic:                     606.0\n",
       "Date:                Fri, 15 Oct 2021   Prob (F-statistic):               0.00\n",
       "Time:                        14:23:17   Log-Likelihood:                -25588.\n",
       "No. Observations:               17414   AIC:                         5.121e+04\n",
       "Df Residuals:                   17399   BIC:                         5.132e+04\n",
       "Df Model:                          14                                         \n",
       "Covariance Type:            nonrobust                                         \n",
       "===========================================================================================\n",
       "                              coef    std err          t      P>|t|      [0.025      0.975]\n",
       "-------------------------------------------------------------------------------------------\n",
       "Intercept                   8.1670      0.071    115.138      0.000       8.028       8.306\n",
       "C(weather_code)[T.2.0]      0.4704      0.022     21.512      0.000       0.428       0.513\n",
       "C(weather_code)[T.3.0]      0.5195      0.024     21.817      0.000       0.473       0.566\n",
       "C(weather_code)[T.4.0]     -0.0921      0.032     -2.887      0.004      -0.155      -0.030\n",
       "C(weather_code)[T.7.0]      0.1214      0.029      4.123      0.000       0.064       0.179\n",
       "C(weather_code)[T.10.0]     0.1400      0.282      0.497      0.619      -0.412       0.692\n",
       "C(weather_code)[T.26.0]    -0.6730      0.138     -4.889      0.000      -0.943      -0.403\n",
       "C(is_holiday)[T.1.0]       -0.2007      0.055     -3.647      0.000      -0.309      -0.093\n",
       "C(is_weekend)[T.1.0]       -0.0398      0.018     -2.233      0.026      -0.075      -0.005\n",
       "C(season)[T.1.0]           -0.2171      0.029     -7.568      0.000      -0.273      -0.161\n",
       "C(season)[T.2.0]            0.1806      0.025      7.353      0.000       0.132       0.229\n",
       "C(season)[T.3.0]            0.2640      0.024     11.074      0.000       0.217       0.311\n",
       "t1                          0.0641      0.002     27.734      0.000       0.060       0.069\n",
       "hum                        -0.0371      0.001    -48.673      0.000      -0.039      -0.036\n",
       "wind_speed                 -0.0067      0.001     -5.806      0.000      -0.009      -0.004\n",
       "==============================================================================\n",
       "Omnibus:                      310.925   Durbin-Watson:                   0.326\n",
       "Prob(Omnibus):                  0.000   Jarque-Bera (JB):              328.264\n",
       "Skew:                          -0.327   Prob(JB):                     5.23e-72\n",
       "Kurtosis:                       3.160   Cond. No.                     2.69e+03\n",
       "==============================================================================\n",
       "\n",
       "Warnings:\n",
       "[1] Standard Errors assume that the covariance matrix of the errors is correctly specified.\n",
       "[2] The condition number is large, 2.69e+03. This might indicate that there are\n",
       "strong multicollinearity or other numerical problems.\n",
       "\"\"\""
      ]
     },
     "execution_count": 16,
     "metadata": {},
     "output_type": "execute_result"
    }
   ],
   "source": [
    "model_new =smf.ols('cnt_log~t1+hum+wind_speed+C(weather_code)+C(is_holiday)+C(is_weekend)+C(season)',data=data).fit()\n",
    "model_new.summary()"
   ]
  },
  {
   "cell_type": "code",
   "execution_count": 17,
   "metadata": {
    "ExecuteTime": {
     "end_time": "2021-10-15T21:23:17.411800Z",
     "start_time": "2021-10-15T21:23:17.138932Z"
    }
   },
   "outputs": [
    {
     "data": {
      "image/png": "[encoded data removed]",
      "text/plain": [
       "<Figure size 720x576 with 1 Axes>"
      ]
     },
     "metadata": {
      "needs_background": "light"
     },
     "output_type": "display_data"
    }
   ],
   "source": [
    "#Fitted Values vs. Residuals\n",
    "\n",
    "fig, ax = plt.subplots(figsize=(10,8))\n",
    "\n",
    "p = model_new.fittedvalues\n",
    "res = model_new.resid\n",
    "ax.scatter(p,res)\n",
    "ax.set_xlabel(\"Fitted Values\")\n",
    "ax.set_ylabel(\"Residual\")\n",
    "ax.set_title(\"Fitted Values vs. Residuals\")\n",
    "\n",
    "ax.spines['top'].set_visible(False)\n",
    "ax.spines['right'].set_visible(False)\n"
   ]
  },
  {
   "cell_type": "markdown",
   "metadata": {},
   "source": [
    "### Fitted Values vs. Residuals\n",
    "\n",
    "- error term has mean 0? No. Might suggest need to transform data for a better fit.\n",
    "- constant variance? No, the variance doesn't seem to be normally distributed\n",
    "- indepedence? Maybe"
   ]
  },
  {
   "cell_type": "markdown",
   "metadata": {},
   "source": [
    "## Influential Points"
   ]
  },
  {
   "cell_type": "code",
   "execution_count": 18,
   "metadata": {
    "ExecuteTime": {
     "end_time": "2021-10-15T21:23:17.416640Z",
     "start_time": "2021-10-15T21:23:17.413885Z"
    }
   },
   "outputs": [],
   "source": [
    "# Influential Points\n",
    "infl = model.get_influence()"
   ]
  },
  {
   "cell_type": "code",
   "execution_count": 19,
   "metadata": {
    "ExecuteTime": {
     "end_time": "2021-10-15T21:23:17.420815Z",
     "start_time": "2021-10-15T21:23:17.418732Z"
    }
   },
   "outputs": [],
   "source": [
    "\n",
    "\n",
    "# fig, ax = plt.subplots(figsize=(12,12))\n",
    "# fig=sm.graphics.influence_plot(model,ax=ax, criterion=\"cooks\") "
   ]
  },
  {
   "cell_type": "code",
   "execution_count": 20,
   "metadata": {
    "ExecuteTime": {
     "end_time": "2021-10-15T21:25:01.515806Z",
     "start_time": "2021-10-15T21:23:17.422926Z"
    }
   },
   "outputs": [
    {
     "name": "stdout",
     "output_type": "stream",
     "text": [
      "Int64Index([   32,    56,    80,   127,   199,   223,   247,   271,   295,\n",
      "              367,\n",
      "            ...\n",
      "            17086, 17110, 17185, 17186, 17187, 17188, 17189, 17190, 17191,\n",
      "            17398],\n",
      "           dtype='int64', length=972) [ 2.21744542  3.01754027  2.94647433  2.54125065  2.50477528  2.87581132\n",
      "  3.15559923  2.75535629  2.22378871  3.16923721  2.09637749  4.16049038\n",
      "  1.98070058  2.25745526  2.10043644  3.40088426  2.42669994  2.50323399\n",
      "  3.3560484   3.33655418  2.8620244   3.47106571  2.98995483  3.4039448\n",
      "  2.93725964  3.07590711  2.92971686  3.24188519  2.86701022  2.48510699\n",
      "  3.67456674  3.73558487  2.08077026  2.9291503   2.08542365  2.87804678\n",
      "  2.58343621  3.10229886  3.34991565  3.00933701  2.72763311  2.46205176\n",
      "  3.07110527  3.41289198  2.34359723  3.17423624  3.08497774  2.9713295\n",
      "  3.26685481  3.33485606  3.25646619  2.55159501  3.29491986  2.30523307\n",
      "  2.01248151  3.51222769  3.89685902  3.24125657  2.71813692  2.25276859\n",
      "  3.5303497   3.7534282   3.68916644  3.22254674  2.64770557  3.04589214\n",
      "  3.80208527  2.27660921  2.69680665  2.32095241  2.03205016  2.63061655\n",
      "  2.09989144  1.97147648  2.08268938  2.64879917  3.1512643   2.37890559\n",
      "  2.07762416  2.08046113  4.01968331  2.19172116  3.3717156   2.72393198\n",
      "  3.42667072  2.82321956  1.96153392  3.39288694  3.14681924  2.24569805\n",
      "  3.73213179  2.22044505  2.26161659  3.83585828  2.64935908  2.99491206\n",
      "  2.20844375  4.04116735  1.98949567  2.2384866   3.32027925  2.34809989\n",
      "  2.48019858  3.39772126  3.841466    3.36571315  1.96067842  3.43639673\n",
      "  2.05662398  3.25914174  2.8693556   2.52546971  2.96414908  3.13988293\n",
      "  2.69923206  3.26122807  2.12223302  2.11228626  3.09096117  2.02466136\n",
      "  3.39603367  2.10796087  3.11731818  2.90338982  1.98603881  2.62399339\n",
      "  3.19650137  3.28996828  3.34476755  2.97291957  2.69890707  2.12002238\n",
      "  2.10194977  3.08582654  2.32344651  2.44500279  2.60410516  2.89425671\n",
      "  3.18169707  3.22462699  2.0385878   3.08450298  2.42863321  3.04640787\n",
      "  3.4543288   2.29391293  2.2862763   3.45349343  1.96492749  2.06922571\n",
      "  3.49093037  2.07780905  2.55881561  3.84076563  2.31146602  2.41097573\n",
      "  3.17810063  2.0806246   3.38075737  2.39211092  2.68260651  3.26581642\n",
      "  2.09214493  2.47020738  3.57202735  2.18159424  2.56388341  3.30654012\n",
      "  2.13857836  2.12740875  2.8230626   3.13289592  2.27622849  3.56675104\n",
      "  2.04433623  3.3753484   2.26253264  2.33775131  3.31776972  2.1597828\n",
      "  2.97669481  2.08369257  2.30043045  2.84246901  2.36768313  3.02569761\n",
      "  2.9958156  -2.00143762 -2.01137143  3.1999479   2.53179173  1.97545169\n",
      "  2.81946716  2.81109133  2.15591374  3.07159887  2.33956829  2.47738287\n",
      "  3.36556435  2.33244801  2.4667843   3.62152721  3.8344518   2.75986955\n",
      "  4.50545482  6.46897828  3.39647046  3.49602789  5.52818078  4.59740754\n",
      "  2.1044875   2.71711557  2.13987162  2.28882867  2.46814452  3.54851535\n",
      "  2.42636045  2.38318717  2.47860369  2.31745185  2.12351994  3.35882416\n",
      "  2.91634984  2.99005915  2.81246151  1.99573827  2.71925734  2.51845284\n",
      "  3.45770719  2.44713987  2.71515607  3.16157525  2.4299055   2.41335206\n",
      "  3.18515908  2.0566576   2.26434656  2.7749643   2.0286418   2.05849801\n",
      "  3.11700637  2.54533621  3.23729418  2.23318955  2.86580535  2.8054995\n",
      "  1.97626132  2.10611721  2.6954316   2.77272208  2.43122557  3.48340364\n",
      "  2.24385758  2.29609155  3.06208236  2.12526303  2.62565948  3.79572616\n",
      "  5.94071026  3.26071559  3.08384164  5.45300278  4.74776608  3.0448739\n",
      "  2.4011782   2.81849381  2.62831038  2.73676583  3.25485746  2.21801708\n",
      "  1.98103298  3.20279413  2.50377972  2.575187    3.39083025  2.80342507\n",
      "  3.00600928  2.11464539  2.20677837  3.30710195  2.52769342  2.38819852\n",
      "  3.22893948  2.30051711  3.16984412  2.21807305  2.28106737  2.65785153\n",
      "  2.57323897  3.59262303  1.9924206   2.16498627  2.52751636  2.00792714\n",
      "  2.01664873  2.86224445  2.65468574  2.52028264  3.39911854  3.24317515\n",
      "  2.84260852  3.49676574  2.07552595  3.65709473  2.07148579  2.04961258\n",
      "  3.96135066  2.03841337  3.96393813  2.22147566  2.2392501   3.38841066\n",
      "  2.06841464  3.09515405  2.0142396   3.56277887  3.28838142  3.51555412\n",
      "  3.01070256  3.2225786   3.96430052  2.03827735  3.63324971  3.63955673\n",
      "  2.56422471  2.57371756  3.76082631  2.61055048  2.58212221  3.75074508\n",
      "  2.5601027   2.4560979   4.06224747  2.36268614  2.00040359  4.07405987\n",
      "  2.35544919  3.47120675  3.55587601  3.44526061  4.28415161  1.99637562\n",
      "  2.15061912  4.13310398  2.00520034  3.57389651  2.00790799  1.96716135\n",
      "  4.4931726   4.36856088  3.78256437  2.27824372  3.31088665  2.04481609\n",
      "  3.51832576  2.15502387  4.22916467  2.02519711  3.4510747   2.89545057\n",
      "  3.92593324  2.42217297  2.57331271  3.8482496   2.12575248  2.21400859\n",
      "  2.02516907  3.44462408  2.23827889  2.03125398  2.16898294  2.01095755\n",
      "  2.49676596  2.51755399  2.59778753  2.21558993  4.17555356  1.97880778\n",
      "  2.85888086  2.69100354  4.14090742  2.79296862  2.42490118  2.07022205\n",
      "  3.40014975  2.86995258  3.50200015  2.09853538  3.72149436  2.07379278\n",
      "  2.30176383  3.19680478  3.92160781  3.1651039   2.97866478  3.20425951\n",
      "  3.19639845  3.13806514  2.60358061  3.99853748  2.81204351  2.20744268\n",
      "  3.66796348  3.58078691  2.69140367  2.76223584  3.18763812  3.11950686\n",
      "  2.01272765  3.26904587  3.18559565  2.9786892   2.23305062  2.24566251\n",
      "  2.20011376  3.665855    2.85719108  2.2931373   3.16162511  2.24513886\n",
      "  3.14519022  2.80355159  2.50942412  2.2499442   2.10816353  2.43559547\n",
      "  2.00304406  3.18873054  2.19854406  3.38541508  1.98129109  2.05998369\n",
      "  2.65875569  2.67428452  2.10987834  3.57475729  2.03438818  3.73505826\n",
      "  3.69811425  2.97042155  3.2933613   2.11182827  3.76931208  3.3338643\n",
      "  2.07181799  3.0677127   2.45699007  2.84512633  3.13252301  2.75783741\n",
      "  3.295277    2.36098309  2.59394609  2.35123862  2.87743853  3.09827919\n",
      "  2.42200366  2.22127087  3.20560089  2.86461855  3.68997463  3.20366728\n",
      "  2.91165191  3.61821532  2.895968    3.0090851   2.9349858   3.00704049\n",
      "  3.29488301  4.07574742  3.21988956  2.67395586  3.11464165  3.23554722\n",
      "  3.16996896  3.07605433  3.19974046  3.07813009  3.45955513  2.90559372\n",
      "  3.33666623  2.17369239  3.80246221  1.9885003   3.14796398  2.14291154\n",
      "  1.99659062  3.76852601  2.34029808  2.14766315  3.37265683  3.88808891\n",
      "  3.20847634  2.77530914  3.69345392  3.30908731  3.05011157  2.17503957\n",
      "  3.09046056  3.13056934  3.14965589  2.92143334  3.37493923  3.07652414\n",
      "  2.87377651  3.17957851  3.29540242  2.47631977  3.76367426  3.43910041\n",
      "  2.38566618  3.47262063  3.31625715  2.37395793  2.82762243  4.0423463\n",
      "  2.8411423   2.89060989  3.71962606  2.02621113  2.05939025  3.14613404\n",
      "  3.53940831  2.40759512  3.54047863  3.89851854  2.22451631  2.09030991\n",
      "  3.65260967  2.59856602  3.05004654  3.45917358  2.24364446  3.24474647\n",
      "  2.48309047  2.35554618  3.69537591  2.51817916  2.45274655  2.07777207\n",
      "  1.99997799  3.50055904  2.30365917  1.97576074  2.00370117  3.57685625\n",
      "  2.23826486  2.35169768  3.8156742   2.16769432  2.14100958  3.4897966\n",
      "  2.79868858  2.0584682   3.58346032  2.68473252  2.53628997  4.12452802\n",
      "  2.33600013  2.37468281  3.26489674  3.81260258  3.05374425  3.64562226\n",
      "  1.97280391  4.09218685  2.00007357  2.10779098  3.80580615  3.09282545\n",
      "  2.50334937  3.55536888  2.57418015  2.58116884  3.14243587  2.60908395\n",
      "  3.04079492  2.57074325  2.58299794  3.3559476   2.35454115  2.6702215\n",
      "  3.48800737  2.39110308  2.1182491   2.07034326  2.02725521  2.04749349\n",
      "  2.00228155  2.19235784  2.22374354  2.43167606  2.19339     4.06234523\n",
      "  2.739899    2.66202454  4.03116643  2.39708017  3.13470437  3.97963438\n",
      "  2.20413372  4.29423807  2.89814311  3.46924642  3.16131919  2.64180791\n",
      "  2.4339679   3.26093598  3.61150955  2.63946331  2.5310563   3.53498898\n",
      "  2.85606726  2.25538455  2.87016322  3.18944738  2.07335031  3.40671256\n",
      "  2.33041319  2.27700151  3.50309406  2.55395548  2.33813612  2.00393991\n",
      "  1.99959553  2.54845029  2.33669368  1.99667973  3.55699862  3.64563269\n",
      "  2.48268816  2.76920561  3.62309862  2.03738843  2.12274197  2.57893294\n",
      "  3.39890794  2.94735247  3.0440243   3.8007003   2.73321381  3.05391215\n",
      "  3.96481308  2.29154518  2.46598719  3.71768314  2.52367465  2.71906531\n",
      "  3.03749297  2.01850068  2.86946357  2.83056997  2.75961448  3.68187987\n",
      "  2.5776139   2.5554496   3.84246234  2.4478145   2.39178935  3.65148365\n",
      "  2.10397723  2.20237884  3.14335558  2.31612514  3.00858806  2.24619446\n",
      "  2.71695091  3.65233564  2.70968374  3.20941348 -2.21748585  3.29958264\n",
      "  2.535734    2.29217456  3.50523047  2.43684868  2.25444813  2.78210111\n",
      "  3.19366355  2.74349423  2.51053545  3.32867512  2.47895013  2.94710313\n",
      "  2.29022247  2.06696391  3.00050817  2.61946497  2.19443195  2.06919387\n",
      "  2.0892758   2.25321819  2.07769412  2.12552996  2.02543321  2.14873639\n",
      "  2.15979728  2.20389882  2.04718959  3.20453153  2.35546312  3.181662\n",
      "  2.52138416  2.74425414  2.95287507  2.61986141  3.00597855  3.35446486\n",
      "  2.29172527  2.12965734  2.34946474  2.58219615  2.81589938  2.49201778\n",
      "  3.67359141  2.40469568  2.50246749  3.50687647  2.56674433  2.55852517\n",
      "  3.0299193   2.24413428  2.36518609  3.0405758   1.98351811  2.19105052\n",
      "  2.12267938  2.25105815  2.10825348  2.01932943  2.19956084  3.11043637\n",
      "  3.62418355  3.61726082  4.07841476  2.98302154  2.94873826  3.87844625\n",
      "  3.01273354  3.18710169  3.83679634  2.22338232  2.47384728  2.88038176\n",
      "  2.33929734  2.44347219  3.36761272  2.54648616  2.59664802  3.1616295\n",
      "  2.13418825  2.31194782  3.37607045  2.04698227  1.97671446  2.03032993\n",
      "  3.16383085  2.52386689  2.49428748  3.62313287  2.54529168  2.68774562\n",
      "  3.26561964  2.11340085  2.37922048  2.22402679  3.61224714  2.48263707\n",
      "  3.03908639  3.4793035   2.24989961  3.52997196  2.23492882  2.36791477\n",
      "  3.33926135  2.11203415  3.93178215  2.60900996  2.47787426  1.99129606\n",
      "  4.32238891  2.10967499  2.46039218  4.00924101  2.77508956  2.98839143\n",
      "  4.05458664  2.29969416  2.3849627   2.00932458  3.63989442  3.86632888\n",
      "  2.56564383  2.65894629  2.05622452  4.52686557  2.67132606  2.71494848\n",
      "  3.70707287  2.41195227  2.47764731  3.47678982  2.31850139  3.24568489\n",
      "  2.23950056  2.54443364  3.64514643  2.8371566   2.55496111  4.31037457\n",
      "  2.46739854  2.68427938  3.6027016   3.68377904  1.97369811  1.98547779\n",
      "  4.23544082  2.70680764  2.52280843  2.01621529  4.80503451  3.02068165\n",
      "  2.9408483   4.39182809  2.91311626  2.58179379  3.57265625  2.34899121\n",
      "  2.17888655  3.41439589  2.34976648  2.005728    4.39169362  2.53561401\n",
      "  2.39126412  2.00390632  4.49613109  2.41601709  2.47309334  4.20454815\n",
      "  2.30206775  2.12715153  3.8929721   2.35809267  3.47710499  2.39177288\n",
      "  3.53592642  3.79184764  2.08390857  2.06516436  4.42782568  2.15152757\n",
      "  2.12657514  3.83592334  2.46420515  2.19716626  3.67035286  3.26140669\n",
      "  2.81933541  2.35598944  4.23045925  2.70851449  2.37812224  3.99773816\n",
      "  2.51611493  2.12289346  3.72772005  2.25747011  3.37945734  2.0319745\n",
      "  2.43489746  4.49795895  3.00750528  2.91061989  2.21462292  4.57176116\n",
      "  3.04325534  2.39984615  2.16144395  4.24602823  2.23623624  2.09038451\n",
      "  2.25684822  4.44214752  2.03425638  3.32895026  2.13391496  2.04909574\n",
      "  3.78217889  2.15644451  2.06187538  3.7712582   3.72281627  3.06863094\n",
      "  2.11733483  2.00578635  1.99292776  4.14259807  2.34873875  3.69525439\n",
      "  3.84026901  3.62230372  2.11814845  3.21660181  3.4369787   2.07878613\n",
      "  1.98523529  4.02594294  2.24731703  2.24987798  3.78793531  3.25110975\n",
      "  2.19618882  3.69249907  2.31580542  2.1216148   2.06185685  4.31903029\n",
      "  1.96533271  2.32777859  2.7077605   2.03634961  4.34350708  2.08764479\n",
      "  2.03791398  2.24862529  3.11180746  2.27981751  2.13879314  3.23841035\n",
      "  2.26203666  2.26152238  4.22544708  2.17092388  2.79228298  2.62710548\n",
      "  4.44854098  2.72592184  2.62180273  3.70862459  2.08168728  2.04728068\n",
      "  3.67113063  3.073853    3.83177471  2.37615779  2.53656031  3.6516295\n",
      "  4.03928596  2.04423212  4.24033681  2.25684328  2.12048999  2.09072187\n",
      "  3.65088617  2.18683325  2.17618581  3.24113184  2.46065817  2.17462663\n",
      "  3.31131602  2.00805793  2.30634139  2.80404139  2.43611154  2.78804741\n",
      "  3.32118059  3.54496109  3.29750172  2.89758475  2.40538394  2.6991353 ]\n"
     ]
    }
   ],
   "source": [
    "### externally studentized residuals\n",
    "\n",
    "n=len(data)\n",
    "p=15\n",
    "seuil_stud = scipy.stats.t.ppf(0.975,df=n-p-1)\n",
    "#detection - absolute value > threshold\n",
    "reg_studs=infl.resid_studentized_external\n",
    "atyp_stud = np.abs(reg_studs) > seuil_stud\n",
    "#which ones?\n",
    "print(data.index[atyp_stud],reg_studs[atyp_stud])"
   ]
  },
  {
   "cell_type": "code",
   "execution_count": 21,
   "metadata": {
    "ExecuteTime": {
     "end_time": "2021-10-15T21:25:01.530786Z",
     "start_time": "2021-10-15T21:25:01.517462Z"
    }
   },
   "outputs": [
    {
     "name": "stdout",
     "output_type": "stream",
     "text": [
      "Int64Index([   32,    56,    80,   127,   136,   199,   223,   247,   262,\n",
      "              264,\n",
      "            ...\n",
      "            17062, 17110, 17185, 17186, 17187, 17188, 17189, 17190, 17191,\n",
      "            17398],\n",
      "           dtype='int64', length=744) 32       0.000231\n",
      "56       0.000452\n",
      "80       0.000284\n",
      "127      0.000279\n",
      "136      0.000230\n",
      "           ...   \n",
      "17188    0.001023\n",
      "17189    0.000885\n",
      "17190    0.000420\n",
      "17191    0.000452\n",
      "17398    0.000329\n",
      "Name: cooks_d, Length: 744, dtype: float64\n"
     ]
    }
   ],
   "source": [
    "### Cook's Distance\n",
    "\n",
    "inflsum=infl.summary_frame()\n",
    "reg_cook=inflsum.cooks_d\n",
    "\n",
    "atyp_cook = np.abs(reg_cook) >= 4/n\n",
    "print(data.index[atyp_cook],reg_cook[atyp_cook])"
   ]
  },
  {
   "cell_type": "markdown",
   "metadata": {},
   "source": [
    "- Result: There are around 744 Influential Points in our data. However, since we do not access to additional information regarding those dataset, let's proceed for now."
   ]
  },
  {
   "cell_type": "markdown",
   "metadata": {},
   "source": [
    "## Heteroskedasticity"
   ]
  },
  {
   "cell_type": "code",
   "execution_count": 22,
   "metadata": {
    "ExecuteTime": {
     "end_time": "2021-10-15T21:25:01.541590Z",
     "start_time": "2021-10-15T21:25:01.532530Z"
    }
   },
   "outputs": [
    {
     "name": "stdout",
     "output_type": "stream",
     "text": [
      "{'LM Statistic': 786.0547224922253, 'LM-Test p-value': 1.0623161944401186e-158}\n"
     ]
    }
   ],
   "source": [
    "bp_test = het_breuschpagan(model.resid, model.model.exog)\n",
    "labels = ['LM Statistic', 'LM-Test p-value']\n",
    "print(dict(zip(labels, bp_test)))"
   ]
  },
  {
   "cell_type": "markdown",
   "metadata": {},
   "source": [
    "- Result: P-value is <<< 0.05. Therefore, serious heteroskedasticity exists in our model\n",
    "- Let's try transforming our response ( ln(y) )"
   ]
  },
  {
   "cell_type": "markdown",
   "metadata": {},
   "source": [
    "### Model 2:  Ln Transformation  - ln(y)"
   ]
  },
  {
   "cell_type": "code",
   "execution_count": 23,
   "metadata": {
    "ExecuteTime": {
     "end_time": "2021-10-15T21:25:01.551228Z",
     "start_time": "2021-10-15T21:25:01.547867Z"
    }
   },
   "outputs": [],
   "source": [
    "data['cnt_log'] = np.log(data['cnt']+1)"
   ]
  },
  {
   "cell_type": "code",
   "execution_count": 24,
   "metadata": {
    "ExecuteTime": {
     "end_time": "2021-10-15T21:25:01.924608Z",
     "start_time": "2021-10-15T21:25:01.555504Z"
    }
   },
   "outputs": [],
   "source": [
    "model_log =smf.ols('cnt_log~t1+hum+wind_speed+C(weather_code)+C(is_holiday)+C(is_weekend)+C(season)',data=data).fit()\n"
   ]
  },
  {
   "cell_type": "code",
   "execution_count": 25,
   "metadata": {
    "ExecuteTime": {
     "end_time": "2021-10-15T21:25:01.941789Z",
     "start_time": "2021-10-15T21:25:01.926990Z"
    }
   },
   "outputs": [
    {
     "name": "stdout",
     "output_type": "stream",
     "text": [
      "{'LM Statistic': 2326.6573198782894, 'LM-Test p-value': 0.0}\n"
     ]
    }
   ],
   "source": [
    "bp_test = het_breuschpagan(model_log.resid, model_log.model.exog)\n",
    "labels = ['LM Statistic', 'LM-Test p-value']\n",
    "print(dict(zip(labels, bp_test)))"
   ]
  },
  {
   "cell_type": "markdown",
   "metadata": {},
   "source": [
    "- Result: Still, heteroskedasticity exists in our model\n",
    "- Let's try Robust Standard Errors "
   ]
  },
  {
   "cell_type": "code",
   "execution_count": 26,
   "metadata": {
    "ExecuteTime": {
     "end_time": "2021-10-15T21:25:01.947300Z",
     "start_time": "2021-10-15T21:25:01.944485Z"
    }
   },
   "outputs": [],
   "source": [
    "#Trying Out Weighted Least Square\n",
    "\n",
    "# data[\"res_sq\"] = model.resid**2\n",
    "# model_res = smf.ols(\"res_sq ~ t1+hum+wind_speed+C(weather_code)+C(is_holiday)+C(is_weekend)+C(season)\", data=data).fit()  \n",
    "# weight = model_res.fittedvalues\n",
    "# weight = abs(weight) \n",
    "# weight = weight**-1 \n",
    "# data['weight'] = weight\n",
    "# model_wls =smf.wls('cnt~t1+hum+wind_speed+C(weather_code)+C(is_holiday)+C(is_weekend)+C(season)',data=data, weight = data['weight']).fit()\n",
    "# model_wls.summary()\n"
   ]
  },
  {
   "cell_type": "code",
   "execution_count": null,
   "metadata": {},
   "outputs": [],
   "source": []
  },
  {
   "cell_type": "code",
   "execution_count": 27,
   "metadata": {
    "ExecuteTime": {
     "end_time": "2021-10-15T21:25:01.978995Z",
     "start_time": "2021-10-15T21:25:01.950302Z"
    }
   },
   "outputs": [
    {
     "data": {
      "text/html": [
       "<table class=\"simpletable\">\n",
       "<caption>OLS Regression Results</caption>\n",
       "<tr>\n",
       "  <th>Dep. Variable:</th>           <td>cnt</td>       <th>  R-squared:         </th>  <td>   0.290</td>  \n",
       "</tr>\n",
       "<tr>\n",
       "  <th>Model:</th>                   <td>OLS</td>       <th>  Adj. R-squared:    </th>  <td>   0.289</td>  \n",
       "</tr>\n",
       "<tr>\n",
       "  <th>Method:</th>             <td>Least Squares</td>  <th>  F-statistic:       </th>  <td>   533.8</td>  \n",
       "</tr>\n",
       "<tr>\n",
       "  <th>Date:</th>             <td>Fri, 15 Oct 2021</td> <th>  Prob (F-statistic):</th>   <td>  0.00</td>   \n",
       "</tr>\n",
       "<tr>\n",
       "  <th>Time:</th>                 <td>14:25:01</td>     <th>  Log-Likelihood:    </th> <td>-1.4345e+05</td>\n",
       "</tr>\n",
       "<tr>\n",
       "  <th>No. Observations:</th>      <td> 17414</td>      <th>  AIC:               </th>  <td>2.869e+05</td> \n",
       "</tr>\n",
       "<tr>\n",
       "  <th>Df Residuals:</th>          <td> 17399</td>      <th>  BIC:               </th>  <td>2.870e+05</td> \n",
       "</tr>\n",
       "<tr>\n",
       "  <th>Df Model:</th>              <td>    14</td>      <th>                     </th>      <td> </td>     \n",
       "</tr>\n",
       "<tr>\n",
       "  <th>Covariance Type:</th>         <td>HC0</td>       <th>                     </th>      <td> </td>     \n",
       "</tr>\n",
       "</table>\n",
       "<table class=\"simpletable\">\n",
       "<tr>\n",
       "             <td></td>                <th>coef</th>     <th>std err</th>      <th>t</th>      <th>P>|t|</th>  <th>[0.025</th>    <th>0.975]</th>  \n",
       "</tr>\n",
       "<tr>\n",
       "  <th>Intercept</th>               <td> 2561.0622</td> <td>   60.718</td> <td>   42.179</td> <td> 0.000</td> <td> 2442.048</td> <td> 2680.076</td>\n",
       "</tr>\n",
       "<tr>\n",
       "  <th>C(weather_code)[T.2.0]</th>  <td>  280.1987</td> <td>   20.040</td> <td>   13.982</td> <td> 0.000</td> <td>  240.919</td> <td>  319.479</td>\n",
       "</tr>\n",
       "<tr>\n",
       "  <th>C(weather_code)[T.3.0]</th>  <td>  278.8253</td> <td>   21.102</td> <td>   13.213</td> <td> 0.000</td> <td>  237.463</td> <td>  320.188</td>\n",
       "</tr>\n",
       "<tr>\n",
       "  <th>C(weather_code)[T.4.0]</th>  <td>  -97.0909</td> <td>   24.707</td> <td>   -3.930</td> <td> 0.000</td> <td> -145.520</td> <td>  -48.662</td>\n",
       "</tr>\n",
       "<tr>\n",
       "  <th>C(weather_code)[T.7.0]</th>  <td>    5.0129</td> <td>   22.067</td> <td>    0.227</td> <td> 0.820</td> <td>  -38.240</td> <td>   48.266</td>\n",
       "</tr>\n",
       "<tr>\n",
       "  <th>C(weather_code)[T.10.0]</th> <td> -389.2944</td> <td>   59.566</td> <td>   -6.536</td> <td> 0.000</td> <td> -506.049</td> <td> -272.540</td>\n",
       "</tr>\n",
       "<tr>\n",
       "  <th>C(weather_code)[T.26.0]</th> <td>   27.2601</td> <td>   67.319</td> <td>    0.405</td> <td> 0.686</td> <td> -104.693</td> <td>  159.213</td>\n",
       "</tr>\n",
       "<tr>\n",
       "  <th>C(is_holiday)[T.1.0]</th>    <td> -259.2138</td> <td>   28.992</td> <td>   -8.941</td> <td> 0.000</td> <td> -316.041</td> <td> -202.387</td>\n",
       "</tr>\n",
       "<tr>\n",
       "  <th>C(is_weekend)[T.1.0]</th>    <td> -198.7065</td> <td>   12.663</td> <td>  -15.692</td> <td> 0.000</td> <td> -223.528</td> <td> -173.885</td>\n",
       "</tr>\n",
       "<tr>\n",
       "  <th>C(season)[T.1.0]</th>        <td> -123.8729</td> <td>   26.072</td> <td>   -4.751</td> <td> 0.000</td> <td> -174.976</td> <td>  -72.769</td>\n",
       "</tr>\n",
       "<tr>\n",
       "  <th>C(season)[T.2.0]</th>        <td>  113.7921</td> <td>   21.074</td> <td>    5.400</td> <td> 0.000</td> <td>   72.484</td> <td>  155.100</td>\n",
       "</tr>\n",
       "<tr>\n",
       "  <th>C(season)[T.3.0]</th>        <td>  135.4103</td> <td>   18.700</td> <td>    7.241</td> <td> 0.000</td> <td>   98.757</td> <td>  172.064</td>\n",
       "</tr>\n",
       "<tr>\n",
       "  <th>t1</th>                      <td>   52.8609</td> <td>    2.082</td> <td>   25.388</td> <td> 0.000</td> <td>   48.780</td> <td>   56.942</td>\n",
       "</tr>\n",
       "<tr>\n",
       "  <th>hum</th>                     <td>  -28.1949</td> <td>    0.655</td> <td>  -43.044</td> <td> 0.000</td> <td>  -29.479</td> <td>  -26.911</td>\n",
       "</tr>\n",
       "<tr>\n",
       "  <th>wind_speed</th>              <td>   -7.5405</td> <td>    0.957</td> <td>   -7.881</td> <td> 0.000</td> <td>   -9.416</td> <td>   -5.665</td>\n",
       "</tr>\n",
       "</table>\n",
       "<table class=\"simpletable\">\n",
       "<tr>\n",
       "  <th>Omnibus:</th>       <td>4812.852</td> <th>  Durbin-Watson:     </th> <td>   0.630</td> \n",
       "</tr>\n",
       "<tr>\n",
       "  <th>Prob(Omnibus):</th>  <td> 0.000</td>  <th>  Jarque-Bera (JB):  </th> <td>12224.414</td>\n",
       "</tr>\n",
       "<tr>\n",
       "  <th>Skew:</th>           <td> 1.515</td>  <th>  Prob(JB):          </th> <td>    0.00</td> \n",
       "</tr>\n",
       "<tr>\n",
       "  <th>Kurtosis:</th>       <td> 5.768</td>  <th>  Cond. No.          </th> <td>2.69e+03</td> \n",
       "</tr>\n",
       "</table><br/><br/>Warnings:<br/>[1] Standard Errors are heteroscedasticity robust (HC0)<br/>[2] The condition number is large, 2.69e+03. This might indicate that there are<br/>strong multicollinearity or other numerical problems."
      ],
      "text/plain": [
       "<class 'statsmodels.iolib.summary.Summary'>\n",
       "\"\"\"\n",
       "                            OLS Regression Results                            \n",
       "==============================================================================\n",
       "Dep. Variable:                    cnt   R-squared:                       0.290\n",
       "Model:                            OLS   Adj. R-squared:                  0.289\n",
       "Method:                 Least Squares   F-statistic:                     533.8\n",
       "Date:                Fri, 15 Oct 2021   Prob (F-statistic):               0.00\n",
       "Time:                        14:25:01   Log-Likelihood:            -1.4345e+05\n",
       "No. Observations:               17414   AIC:                         2.869e+05\n",
       "Df Residuals:                   17399   BIC:                         2.870e+05\n",
       "Df Model:                          14                                         \n",
       "Covariance Type:                  HC0                                         \n",
       "===========================================================================================\n",
       "                              coef    std err          t      P>|t|      [0.025      0.975]\n",
       "-------------------------------------------------------------------------------------------\n",
       "Intercept                2561.0622     60.718     42.179      0.000    2442.048    2680.076\n",
       "C(weather_code)[T.2.0]    280.1987     20.040     13.982      0.000     240.919     319.479\n",
       "C(weather_code)[T.3.0]    278.8253     21.102     13.213      0.000     237.463     320.188\n",
       "C(weather_code)[T.4.0]    -97.0909     24.707     -3.930      0.000    -145.520     -48.662\n",
       "C(weather_code)[T.7.0]      5.0129     22.067      0.227      0.820     -38.240      48.266\n",
       "C(weather_code)[T.10.0]  -389.2944     59.566     -6.536      0.000    -506.049    -272.540\n",
       "C(weather_code)[T.26.0]    27.2601     67.319      0.405      0.686    -104.693     159.213\n",
       "C(is_holiday)[T.1.0]     -259.2138     28.992     -8.941      0.000    -316.041    -202.387\n",
       "C(is_weekend)[T.1.0]     -198.7065     12.663    -15.692      0.000    -223.528    -173.885\n",
       "C(season)[T.1.0]         -123.8729     26.072     -4.751      0.000    -174.976     -72.769\n",
       "C(season)[T.2.0]          113.7921     21.074      5.400      0.000      72.484     155.100\n",
       "C(season)[T.3.0]          135.4103     18.700      7.241      0.000      98.757     172.064\n",
       "t1                         52.8609      2.082     25.388      0.000      48.780      56.942\n",
       "hum                       -28.1949      0.655    -43.044      0.000     -29.479     -26.911\n",
       "wind_speed                 -7.5405      0.957     -7.881      0.000      -9.416      -5.665\n",
       "==============================================================================\n",
       "Omnibus:                     4812.852   Durbin-Watson:                   0.630\n",
       "Prob(Omnibus):                  0.000   Jarque-Bera (JB):            12224.414\n",
       "Skew:                           1.515   Prob(JB):                         0.00\n",
       "Kurtosis:                       5.768   Cond. No.                     2.69e+03\n",
       "==============================================================================\n",
       "\n",
       "Warnings:\n",
       "[1] Standard Errors are heteroscedasticity robust (HC0)\n",
       "[2] The condition number is large, 2.69e+03. This might indicate that there are\n",
       "strong multicollinearity or other numerical problems.\n",
       "\"\"\""
      ]
     },
     "execution_count": 27,
     "metadata": {},
     "output_type": "execute_result"
    }
   ],
   "source": [
    "# Robuest SE\n",
    "model_RSE = model.get_robustcov_results(cov_type = \"HC0\")\n",
    "model_RSE.summary()"
   ]
  },
  {
   "cell_type": "markdown",
   "metadata": {},
   "source": [
    "Since we are using Robust SE, we don't need to recheck for heteroskedasticity and we can proceed"
   ]
  },
  {
   "cell_type": "markdown",
   "metadata": {},
   "source": [
    "### Normally Distributed Residuals\n",
    "- QQ Plot\n",
    "- JB Test\n"
   ]
  },
  {
   "cell_type": "code",
   "execution_count": 28,
   "metadata": {
    "ExecuteTime": {
     "end_time": "2021-10-15T21:25:02.210315Z",
     "start_time": "2021-10-15T21:25:01.981195Z"
    }
   },
   "outputs": [
    {
     "data": {
      "image/png": "[encoded data removed]",
      "text/plain": [
       "<Figure size 720x576 with 1 Axes>"
      ]
     },
     "metadata": {
      "needs_background": "light"
     },
     "output_type": "display_data"
    }
   ],
   "source": [
    "# QQ Plot For Model_RSE\n",
    "\n",
    "fig, ax = plt.subplots(figsize=(10, 8))\n",
    "\n",
    "sm.qqplot(model_RSE.resid, ax=ax)\n",
    "\n",
    "ax.spines['top'].set_visible(False)\n",
    "ax.spines['right'].set_visible(False)"
   ]
  },
  {
   "cell_type": "markdown",
   "metadata": {},
   "source": [
    "By examining QQ plot and JB testing, we can say that our residual is not normally distributed. However, since Robust SE is not sensitive to the assumption, we can proceed"
   ]
  },
  {
   "cell_type": "markdown",
   "metadata": {},
   "source": [
    "## Additional Analysis: Without Influential Points"
   ]
  },
  {
   "cell_type": "code",
   "execution_count": 29,
   "metadata": {
    "ExecuteTime": {
     "end_time": "2021-10-15T21:25:02.218292Z",
     "start_time": "2021-10-15T21:25:02.212732Z"
    }
   },
   "outputs": [
    {
     "data": {
      "text/plain": [
       "744"
      ]
     },
     "execution_count": 29,
     "metadata": {},
     "output_type": "execute_result"
    }
   ],
   "source": [
    "inf_indexes =list(data.index[atyp_cook])\n",
    "len(inf_indexes)"
   ]
  },
  {
   "cell_type": "code",
   "execution_count": 30,
   "metadata": {
    "ExecuteTime": {
     "end_time": "2021-10-15T21:25:02.228211Z",
     "start_time": "2021-10-15T21:25:02.220966Z"
    }
   },
   "outputs": [],
   "source": [
    "data_wo_inf = data.drop(inf_indexes, axis=0)"
   ]
  },
  {
   "cell_type": "code",
   "execution_count": 31,
   "metadata": {
    "ExecuteTime": {
     "end_time": "2021-10-15T21:25:02.586940Z",
     "start_time": "2021-10-15T21:25:02.230396Z"
    }
   },
   "outputs": [
    {
     "data": {
      "text/html": [
       "<table class=\"simpletable\">\n",
       "<caption>OLS Regression Results</caption>\n",
       "<tr>\n",
       "  <th>Dep. Variable:</th>           <td>cnt</td>       <th>  R-squared:         </th>  <td>   0.393</td>  \n",
       "</tr>\n",
       "<tr>\n",
       "  <th>Model:</th>                   <td>OLS</td>       <th>  Adj. R-squared:    </th>  <td>   0.392</td>  \n",
       "</tr>\n",
       "<tr>\n",
       "  <th>Method:</th>             <td>Least Squares</td>  <th>  F-statistic:       </th>  <td>   769.7</td>  \n",
       "</tr>\n",
       "<tr>\n",
       "  <th>Date:</th>             <td>Fri, 15 Oct 2021</td> <th>  Prob (F-statistic):</th>   <td>  0.00</td>   \n",
       "</tr>\n",
       "<tr>\n",
       "  <th>Time:</th>                 <td>14:25:02</td>     <th>  Log-Likelihood:    </th> <td>-1.3313e+05</td>\n",
       "</tr>\n",
       "<tr>\n",
       "  <th>No. Observations:</th>      <td> 16670</td>      <th>  AIC:               </th>  <td>2.663e+05</td> \n",
       "</tr>\n",
       "<tr>\n",
       "  <th>Df Residuals:</th>          <td> 16655</td>      <th>  BIC:               </th>  <td>2.664e+05</td> \n",
       "</tr>\n",
       "<tr>\n",
       "  <th>Df Model:</th>              <td>    14</td>      <th>                     </th>      <td> </td>     \n",
       "</tr>\n",
       "<tr>\n",
       "  <th>Covariance Type:</th>      <td>nonrobust</td>    <th>                     </th>      <td> </td>     \n",
       "</tr>\n",
       "</table>\n",
       "<table class=\"simpletable\">\n",
       "<tr>\n",
       "             <td></td>                <th>coef</th>     <th>std err</th>      <th>t</th>      <th>P>|t|</th>  <th>[0.025</th>    <th>0.975]</th>  \n",
       "</tr>\n",
       "<tr>\n",
       "  <th>Intercept</th>               <td> 2563.6461</td> <td>   49.055</td> <td>   52.261</td> <td> 0.000</td> <td> 2467.493</td> <td> 2659.799</td>\n",
       "</tr>\n",
       "<tr>\n",
       "  <th>C(weather_code)[T.2.0]</th>  <td>  292.4652</td> <td>   15.125</td> <td>   19.336</td> <td> 0.000</td> <td>  262.818</td> <td>  322.113</td>\n",
       "</tr>\n",
       "<tr>\n",
       "  <th>C(weather_code)[T.3.0]</th>  <td>  274.0092</td> <td>   16.476</td> <td>   16.631</td> <td> 0.000</td> <td>  241.714</td> <td>  306.304</td>\n",
       "</tr>\n",
       "<tr>\n",
       "  <th>C(weather_code)[T.4.0]</th>  <td>  -86.6287</td> <td>   22.016</td> <td>   -3.935</td> <td> 0.000</td> <td> -129.782</td> <td>  -43.476</td>\n",
       "</tr>\n",
       "<tr>\n",
       "  <th>C(weather_code)[T.7.0]</th>  <td>   86.6800</td> <td>   20.261</td> <td>    4.278</td> <td> 0.000</td> <td>   46.966</td> <td>  126.394</td>\n",
       "</tr>\n",
       "<tr>\n",
       "  <th>C(weather_code)[T.10.0]</th> <td> -208.7489</td> <td>  269.255</td> <td>   -0.775</td> <td> 0.438</td> <td> -736.517</td> <td>  319.020</td>\n",
       "</tr>\n",
       "<tr>\n",
       "  <th>C(weather_code)[T.26.0]</th> <td>   67.3795</td> <td>  101.809</td> <td>    0.662</td> <td> 0.508</td> <td> -132.177</td> <td>  266.936</td>\n",
       "</tr>\n",
       "<tr>\n",
       "  <th>C(is_holiday)[T.1.0]</th>    <td> -179.3568</td> <td>   38.486</td> <td>   -4.660</td> <td> 0.000</td> <td> -254.793</td> <td> -103.921</td>\n",
       "</tr>\n",
       "<tr>\n",
       "  <th>C(is_weekend)[T.1.0]</th>    <td>  -45.7935</td> <td>   12.184</td> <td>   -3.759</td> <td> 0.000</td> <td>  -69.675</td> <td>  -21.912</td>\n",
       "</tr>\n",
       "<tr>\n",
       "  <th>C(season)[T.1.0]</th>        <td> -150.0810</td> <td>   19.945</td> <td>   -7.525</td> <td> 0.000</td> <td> -189.175</td> <td> -110.987</td>\n",
       "</tr>\n",
       "<tr>\n",
       "  <th>C(season)[T.2.0]</th>        <td>  107.9577</td> <td>   16.962</td> <td>    6.365</td> <td> 0.000</td> <td>   74.710</td> <td>  141.205</td>\n",
       "</tr>\n",
       "<tr>\n",
       "  <th>C(season)[T.3.0]</th>        <td>  157.1856</td> <td>   16.434</td> <td>    9.564</td> <td> 0.000</td> <td>  124.972</td> <td>  189.399</td>\n",
       "</tr>\n",
       "<tr>\n",
       "  <th>t1</th>                      <td>   50.0331</td> <td>    1.616</td> <td>   30.955</td> <td> 0.000</td> <td>   46.865</td> <td>   53.201</td>\n",
       "</tr>\n",
       "<tr>\n",
       "  <th>hum</th>                     <td>  -30.2018</td> <td>    0.527</td> <td>  -57.339</td> <td> 0.000</td> <td>  -31.234</td> <td>  -29.169</td>\n",
       "</tr>\n",
       "<tr>\n",
       "  <th>wind_speed</th>              <td>   -7.4270</td> <td>    0.793</td> <td>   -9.365</td> <td> 0.000</td> <td>   -8.982</td> <td>   -5.872</td>\n",
       "</tr>\n",
       "</table>\n",
       "<table class=\"simpletable\">\n",
       "<tr>\n",
       "  <th>Omnibus:</th>       <td>2326.807</td> <th>  Durbin-Watson:     </th> <td>   0.566</td>\n",
       "</tr>\n",
       "<tr>\n",
       "  <th>Prob(Omnibus):</th>  <td> 0.000</td>  <th>  Jarque-Bera (JB):  </th> <td>3478.914</td>\n",
       "</tr>\n",
       "<tr>\n",
       "  <th>Skew:</th>           <td> 1.026</td>  <th>  Prob(JB):          </th> <td>    0.00</td>\n",
       "</tr>\n",
       "<tr>\n",
       "  <th>Kurtosis:</th>       <td> 3.895</td>  <th>  Cond. No.          </th> <td>3.72e+03</td>\n",
       "</tr>\n",
       "</table><br/><br/>Warnings:<br/>[1] Standard Errors assume that the covariance matrix of the errors is correctly specified.<br/>[2] The condition number is large, 3.72e+03. This might indicate that there are<br/>strong multicollinearity or other numerical problems."
      ],
      "text/plain": [
       "<class 'statsmodels.iolib.summary.Summary'>\n",
       "\"\"\"\n",
       "                            OLS Regression Results                            \n",
       "==============================================================================\n",
       "Dep. Variable:                    cnt   R-squared:                       0.393\n",
       "Model:                            OLS   Adj. R-squared:                  0.392\n",
       "Method:                 Least Squares   F-statistic:                     769.7\n",
       "Date:                Fri, 15 Oct 2021   Prob (F-statistic):               0.00\n",
       "Time:                        14:25:02   Log-Likelihood:            -1.3313e+05\n",
       "No. Observations:               16670   AIC:                         2.663e+05\n",
       "Df Residuals:                   16655   BIC:                         2.664e+05\n",
       "Df Model:                          14                                         \n",
       "Covariance Type:            nonrobust                                         \n",
       "===========================================================================================\n",
       "                              coef    std err          t      P>|t|      [0.025      0.975]\n",
       "-------------------------------------------------------------------------------------------\n",
       "Intercept                2563.6461     49.055     52.261      0.000    2467.493    2659.799\n",
       "C(weather_code)[T.2.0]    292.4652     15.125     19.336      0.000     262.818     322.113\n",
       "C(weather_code)[T.3.0]    274.0092     16.476     16.631      0.000     241.714     306.304\n",
       "C(weather_code)[T.4.0]    -86.6287     22.016     -3.935      0.000    -129.782     -43.476\n",
       "C(weather_code)[T.7.0]     86.6800     20.261      4.278      0.000      46.966     126.394\n",
       "C(weather_code)[T.10.0]  -208.7489    269.255     -0.775      0.438    -736.517     319.020\n",
       "C(weather_code)[T.26.0]    67.3795    101.809      0.662      0.508    -132.177     266.936\n",
       "C(is_holiday)[T.1.0]     -179.3568     38.486     -4.660      0.000    -254.793    -103.921\n",
       "C(is_weekend)[T.1.0]      -45.7935     12.184     -3.759      0.000     -69.675     -21.912\n",
       "C(season)[T.1.0]         -150.0810     19.945     -7.525      0.000    -189.175    -110.987\n",
       "C(season)[T.2.0]          107.9577     16.962      6.365      0.000      74.710     141.205\n",
       "C(season)[T.3.0]          157.1856     16.434      9.564      0.000     124.972     189.399\n",
       "t1                         50.0331      1.616     30.955      0.000      46.865      53.201\n",
       "hum                       -30.2018      0.527    -57.339      0.000     -31.234     -29.169\n",
       "wind_speed                 -7.4270      0.793     -9.365      0.000      -8.982      -5.872\n",
       "==============================================================================\n",
       "Omnibus:                     2326.807   Durbin-Watson:                   0.566\n",
       "Prob(Omnibus):                  0.000   Jarque-Bera (JB):             3478.914\n",
       "Skew:                           1.026   Prob(JB):                         0.00\n",
       "Kurtosis:                       3.895   Cond. No.                     3.72e+03\n",
       "==============================================================================\n",
       "\n",
       "Warnings:\n",
       "[1] Standard Errors assume that the covariance matrix of the errors is correctly specified.\n",
       "[2] The condition number is large, 3.72e+03. This might indicate that there are\n",
       "strong multicollinearity or other numerical problems.\n",
       "\"\"\""
      ]
     },
     "execution_count": 31,
     "metadata": {},
     "output_type": "execute_result"
    }
   ],
   "source": [
    "model_wo_inf =smf.ols('cnt~t1+hum+wind_speed+C(weather_code)+C(is_holiday)+C(is_weekend)+C(season)',data=data_wo_inf).fit()\n",
    "model_wo_inf.summary()"
   ]
  },
  {
   "cell_type": "markdown",
   "metadata": {},
   "source": [
    "### Summary Result (No Robust SE)\n",
    "- R^2 increased by ~0.1\n",
    "- Omnibus, Skewness, Kurtosis, JB test score dropped"
   ]
  },
  {
   "cell_type": "code",
   "execution_count": 32,
   "metadata": {
    "ExecuteTime": {
     "end_time": "2021-10-15T21:25:02.617967Z",
     "start_time": "2021-10-15T21:25:02.589601Z"
    }
   },
   "outputs": [
    {
     "data": {
      "text/html": [
       "<table class=\"simpletable\">\n",
       "<caption>OLS Regression Results</caption>\n",
       "<tr>\n",
       "  <th>Dep. Variable:</th>           <td>cnt</td>       <th>  R-squared:         </th>  <td>   0.393</td>  \n",
       "</tr>\n",
       "<tr>\n",
       "  <th>Model:</th>                   <td>OLS</td>       <th>  Adj. R-squared:    </th>  <td>   0.392</td>  \n",
       "</tr>\n",
       "<tr>\n",
       "  <th>Method:</th>             <td>Least Squares</td>  <th>  F-statistic:       </th>  <td>   769.1</td>  \n",
       "</tr>\n",
       "<tr>\n",
       "  <th>Date:</th>             <td>Fri, 15 Oct 2021</td> <th>  Prob (F-statistic):</th>   <td>  0.00</td>   \n",
       "</tr>\n",
       "<tr>\n",
       "  <th>Time:</th>                 <td>14:25:02</td>     <th>  Log-Likelihood:    </th> <td>-1.3313e+05</td>\n",
       "</tr>\n",
       "<tr>\n",
       "  <th>No. Observations:</th>      <td> 16670</td>      <th>  AIC:               </th>  <td>2.663e+05</td> \n",
       "</tr>\n",
       "<tr>\n",
       "  <th>Df Residuals:</th>          <td> 16655</td>      <th>  BIC:               </th>  <td>2.664e+05</td> \n",
       "</tr>\n",
       "<tr>\n",
       "  <th>Df Model:</th>              <td>    14</td>      <th>                     </th>      <td> </td>     \n",
       "</tr>\n",
       "<tr>\n",
       "  <th>Covariance Type:</th>         <td>HC0</td>       <th>                     </th>      <td> </td>     \n",
       "</tr>\n",
       "</table>\n",
       "<table class=\"simpletable\">\n",
       "<tr>\n",
       "             <td></td>                <th>coef</th>     <th>std err</th>      <th>t</th>      <th>P>|t|</th>  <th>[0.025</th>    <th>0.975]</th>  \n",
       "</tr>\n",
       "<tr>\n",
       "  <th>Intercept</th>               <td> 2563.6461</td> <td>   49.390</td> <td>   51.906</td> <td> 0.000</td> <td> 2466.837</td> <td> 2660.455</td>\n",
       "</tr>\n",
       "<tr>\n",
       "  <th>C(weather_code)[T.2.0]</th>  <td>  292.4652</td> <td>   16.149</td> <td>   18.110</td> <td> 0.000</td> <td>  260.811</td> <td>  324.120</td>\n",
       "</tr>\n",
       "<tr>\n",
       "  <th>C(weather_code)[T.3.0]</th>  <td>  274.0092</td> <td>   16.566</td> <td>   16.541</td> <td> 0.000</td> <td>  241.539</td> <td>  306.479</td>\n",
       "</tr>\n",
       "<tr>\n",
       "  <th>C(weather_code)[T.4.0]</th>  <td>  -86.6287</td> <td>   18.859</td> <td>   -4.593</td> <td> 0.000</td> <td> -123.595</td> <td>  -49.662</td>\n",
       "</tr>\n",
       "<tr>\n",
       "  <th>C(weather_code)[T.7.0]</th>  <td>   86.6800</td> <td>   17.402</td> <td>    4.981</td> <td> 0.000</td> <td>   52.570</td> <td>  120.790</td>\n",
       "</tr>\n",
       "<tr>\n",
       "  <th>C(weather_code)[T.10.0]</th> <td> -208.7489</td> <td>   51.433</td> <td>   -4.059</td> <td> 0.000</td> <td> -309.563</td> <td> -107.935</td>\n",
       "</tr>\n",
       "<tr>\n",
       "  <th>C(weather_code)[T.26.0]</th> <td>   67.3795</td> <td>   29.474</td> <td>    2.286</td> <td> 0.022</td> <td>    9.606</td> <td>  125.153</td>\n",
       "</tr>\n",
       "<tr>\n",
       "  <th>C(is_holiday)[T.1.0]</th>    <td> -179.3568</td> <td>   23.389</td> <td>   -7.668</td> <td> 0.000</td> <td> -225.201</td> <td> -133.512</td>\n",
       "</tr>\n",
       "<tr>\n",
       "  <th>C(is_weekend)[T.1.0]</th>    <td>  -45.7935</td> <td>   10.975</td> <td>   -4.172</td> <td> 0.000</td> <td>  -67.306</td> <td>  -24.281</td>\n",
       "</tr>\n",
       "<tr>\n",
       "  <th>C(season)[T.1.0]</th>        <td> -150.0810</td> <td>   20.425</td> <td>   -7.348</td> <td> 0.000</td> <td> -190.116</td> <td> -110.047</td>\n",
       "</tr>\n",
       "<tr>\n",
       "  <th>C(season)[T.2.0]</th>        <td>  107.9577</td> <td>   16.683</td> <td>    6.471</td> <td> 0.000</td> <td>   75.257</td> <td>  140.658</td>\n",
       "</tr>\n",
       "<tr>\n",
       "  <th>C(season)[T.3.0]</th>        <td>  157.1856</td> <td>   14.925</td> <td>   10.532</td> <td> 0.000</td> <td>  127.931</td> <td>  186.440</td>\n",
       "</tr>\n",
       "<tr>\n",
       "  <th>t1</th>                      <td>   50.0331</td> <td>    1.588</td> <td>   31.513</td> <td> 0.000</td> <td>   46.921</td> <td>   53.145</td>\n",
       "</tr>\n",
       "<tr>\n",
       "  <th>hum</th>                     <td>  -30.2018</td> <td>    0.531</td> <td>  -56.832</td> <td> 0.000</td> <td>  -31.243</td> <td>  -29.160</td>\n",
       "</tr>\n",
       "<tr>\n",
       "  <th>wind_speed</th>              <td>   -7.4270</td> <td>    0.767</td> <td>   -9.689</td> <td> 0.000</td> <td>   -8.930</td> <td>   -5.925</td>\n",
       "</tr>\n",
       "</table>\n",
       "<table class=\"simpletable\">\n",
       "<tr>\n",
       "  <th>Omnibus:</th>       <td>2326.807</td> <th>  Durbin-Watson:     </th> <td>   0.566</td>\n",
       "</tr>\n",
       "<tr>\n",
       "  <th>Prob(Omnibus):</th>  <td> 0.000</td>  <th>  Jarque-Bera (JB):  </th> <td>3478.914</td>\n",
       "</tr>\n",
       "<tr>\n",
       "  <th>Skew:</th>           <td> 1.026</td>  <th>  Prob(JB):          </th> <td>    0.00</td>\n",
       "</tr>\n",
       "<tr>\n",
       "  <th>Kurtosis:</th>       <td> 3.895</td>  <th>  Cond. No.          </th> <td>3.72e+03</td>\n",
       "</tr>\n",
       "</table><br/><br/>Warnings:<br/>[1] Standard Errors are heteroscedasticity robust (HC0)<br/>[2] The condition number is large, 3.72e+03. This might indicate that there are<br/>strong multicollinearity or other numerical problems."
      ],
      "text/plain": [
       "<class 'statsmodels.iolib.summary.Summary'>\n",
       "\"\"\"\n",
       "                            OLS Regression Results                            \n",
       "==============================================================================\n",
       "Dep. Variable:                    cnt   R-squared:                       0.393\n",
       "Model:                            OLS   Adj. R-squared:                  0.392\n",
       "Method:                 Least Squares   F-statistic:                     769.1\n",
       "Date:                Fri, 15 Oct 2021   Prob (F-statistic):               0.00\n",
       "Time:                        14:25:02   Log-Likelihood:            -1.3313e+05\n",
       "No. Observations:               16670   AIC:                         2.663e+05\n",
       "Df Residuals:                   16655   BIC:                         2.664e+05\n",
       "Df Model:                          14                                         \n",
       "Covariance Type:                  HC0                                         \n",
       "===========================================================================================\n",
       "                              coef    std err          t      P>|t|      [0.025      0.975]\n",
       "-------------------------------------------------------------------------------------------\n",
       "Intercept                2563.6461     49.390     51.906      0.000    2466.837    2660.455\n",
       "C(weather_code)[T.2.0]    292.4652     16.149     18.110      0.000     260.811     324.120\n",
       "C(weather_code)[T.3.0]    274.0092     16.566     16.541      0.000     241.539     306.479\n",
       "C(weather_code)[T.4.0]    -86.6287     18.859     -4.593      0.000    -123.595     -49.662\n",
       "C(weather_code)[T.7.0]     86.6800     17.402      4.981      0.000      52.570     120.790\n",
       "C(weather_code)[T.10.0]  -208.7489     51.433     -4.059      0.000    -309.563    -107.935\n",
       "C(weather_code)[T.26.0]    67.3795     29.474      2.286      0.022       9.606     125.153\n",
       "C(is_holiday)[T.1.0]     -179.3568     23.389     -7.668      0.000    -225.201    -133.512\n",
       "C(is_weekend)[T.1.0]      -45.7935     10.975     -4.172      0.000     -67.306     -24.281\n",
       "C(season)[T.1.0]         -150.0810     20.425     -7.348      0.000    -190.116    -110.047\n",
       "C(season)[T.2.0]          107.9577     16.683      6.471      0.000      75.257     140.658\n",
       "C(season)[T.3.0]          157.1856     14.925     10.532      0.000     127.931     186.440\n",
       "t1                         50.0331      1.588     31.513      0.000      46.921      53.145\n",
       "hum                       -30.2018      0.531    -56.832      0.000     -31.243     -29.160\n",
       "wind_speed                 -7.4270      0.767     -9.689      0.000      -8.930      -5.925\n",
       "==============================================================================\n",
       "Omnibus:                     2326.807   Durbin-Watson:                   0.566\n",
       "Prob(Omnibus):                  0.000   Jarque-Bera (JB):             3478.914\n",
       "Skew:                           1.026   Prob(JB):                         0.00\n",
       "Kurtosis:                       3.895   Cond. No.                     3.72e+03\n",
       "==============================================================================\n",
       "\n",
       "Warnings:\n",
       "[1] Standard Errors are heteroscedasticity robust (HC0)\n",
       "[2] The condition number is large, 3.72e+03. This might indicate that there are\n",
       "strong multicollinearity or other numerical problems.\n",
       "\"\"\""
      ]
     },
     "execution_count": 32,
     "metadata": {},
     "output_type": "execute_result"
    }
   ],
   "source": [
    "model_RSE = model_wo_inf.get_robustcov_results(cov_type = \"HC0\")\n",
    "model_RSE.summary()"
   ]
  },
  {
   "cell_type": "markdown",
   "metadata": {},
   "source": [
    "### Summary Result (With Robust SE)\n",
    "- R^2 increased by ~0.1\n",
    "- Omnibus, Skewness, Kurtosis, JB test score dropped"
   ]
  },
  {
   "cell_type": "code",
   "execution_count": null,
   "metadata": {},
   "outputs": [],
   "source": []
  }
 ],
 "metadata": {
  "kernelspec": {
   "display_name": "Python 3",
   "language": "python",
   "name": "python3"
  },
  "language_info": {
   "codemirror_mode": {
    "name": "ipython",
    "version": 3
   },
   "file_extension": ".py",
   "mimetype": "text/x-python",
   "name": "python",
   "nbconvert_exporter": "python",
   "pygments_lexer": "ipython3",
   "version": "3.7.6"
  },
  "toc": {
   "base_numbering": 1,
   "nav_menu": {},
   "number_sections": true,
   "sideBar": true,
   "skip_h1_title": false,
   "title_cell": "Table of Contents",
   "title_sidebar": "Contents",
   "toc_cell": false,
   "toc_position": {},
   "toc_section_display": true,
   "toc_window_display": false
  },
  "varInspector": {
   "cols": {
    "lenName": 16,
    "lenType": 16,
    "lenVar": 40
   },
   "kernels_config": {
    "python": {
     "delete_cmd_postfix": "",
     "delete_cmd_prefix": "del ",
     "library": "var_list.py",
     "varRefreshCmd": "print(var_dic_list())"
    },
    "r": {
     "delete_cmd_postfix": ") ",
     "delete_cmd_prefix": "rm(",
     "library": "var_list.r",
     "varRefreshCmd": "cat(var_dic_list()) "
    }
   },
   "types_to_exclude": [
    "module",
    "function",
    "builtin_function_or_method",
    "instance",
    "_Feature"
   ],
   "window_display": false
  }
 },
 "nbformat": 4,
 "nbformat_minor": 4
}
