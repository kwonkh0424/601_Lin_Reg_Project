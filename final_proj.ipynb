{
 "cells": [
  {
   "cell_type": "markdown",
   "metadata": {},
   "source": [
    "https://www.kaggle.com/hmavrodiev/london-bike-sharing-dataset\n",
    "● Description of your dataset: resource, dimension, variable description, etc.\n",
    "● Statement of the research questions, and a summary of methods being used in the analysis\n",
    "● The explanatory data analysis may include but not limited to graphs, demographic summaries, crosstables, individual tests, etc.. And some initial findings at this point.\n",
    "● Regression analysis that may include but not limited to multiple linear regression model and logistic regression model."
   ]
  },
  {
   "cell_type": "markdown",
   "metadata": {},
   "source": [
    "\"timestamp\" - timestamp field for grouping the data\n",
    "\"cnt\" - the count of a new bike shares\n",
    "\"t1\" - real temperature in C\n",
    "\"t2\" - temperature in C \"feels like\"\n",
    "\"hum\" - humidity in percentage\n",
    "\"windspeed\" - wind speed in km/h\n",
    "\"weathercode\" - category of the weather\n",
    "\"isholiday\" - boolean field - 1 holiday / 0 non holiday   ##bealoon variable\n",
    "\"isweekend\" - boolean field - 1 if the day is weekend     ##categorical variable\n",
    "\"season\" - category field meteorological seasons: 0-spring ; 1-summer; 2-fall; 3-winter.  ##categorical variable\n",
    "\n",
    "\"weathe_code\" category description:\n",
    "1 = Clear ; mostly clear but have some values with haze/fog/patches of fog/ fog in vicinity 2 = scattered clouds / few clouds 3 = Broken clouds 4 = Cloudy 7 = Rain/ light Rain shower/ Light rain 10 = rain with thunderstorm 26 = snowfall 94 = Freezing Fog"
   ]
  },
  {
   "cell_type": "code",
   "execution_count": 22,
   "metadata": {
    "ExecuteTime": {
     "end_time": "2021-10-08T02:20:54.985191Z",
     "start_time": "2021-10-08T02:20:53.694173Z"
    }
   },
   "outputs": [],
   "source": [
    "import matplotlib.pyplot as plt \n",
    "import pandas as pd\n",
    "import numpy as np\n",
    "import statsmodels.api as sm\n",
    "import statsmodels.formula.api as smf\n",
    "\n",
    "data = pd.read_csv(\"london_merged.csv\")"
   ]
  },
  {
   "cell_type": "code",
   "execution_count": 23,
   "metadata": {
    "ExecuteTime": {
     "end_time": "2021-10-08T02:20:55.132843Z",
     "start_time": "2021-10-08T02:20:55.125952Z"
    }
   },
   "outputs": [
    {
     "name": "stdout",
     "output_type": "stream",
     "text": [
      "<class 'pandas.core.frame.DataFrame'>\n",
      "RangeIndex: 17414 entries, 0 to 17413\n",
      "Data columns (total 10 columns):\n",
      " #   Column        Non-Null Count  Dtype  \n",
      "---  ------        --------------  -----  \n",
      " 0   timestamp     17414 non-null  object \n",
      " 1   cnt           17414 non-null  int64  \n",
      " 2   t1            17414 non-null  float64\n",
      " 3   t2            17414 non-null  float64\n",
      " 4   hum           17414 non-null  float64\n",
      " 5   wind_speed    17414 non-null  float64\n",
      " 6   weather_code  17414 non-null  float64\n",
      " 7   is_holiday    17414 non-null  float64\n",
      " 8   is_weekend    17414 non-null  float64\n",
      " 9   season        17414 non-null  float64\n",
      "dtypes: float64(8), int64(1), object(1)\n",
      "memory usage: 1.3+ MB\n"
     ]
    }
   ],
   "source": [
    "data.info()"
   ]
  },
  {
   "cell_type": "code",
   "execution_count": 24,
   "metadata": {
    "ExecuteTime": {
     "end_time": "2021-10-08T02:20:56.187035Z",
     "start_time": "2021-10-08T02:20:56.180652Z"
    }
   },
   "outputs": [
    {
     "data": {
      "text/plain": [
       "timestamp       False\n",
       "cnt             False\n",
       "t1              False\n",
       "t2              False\n",
       "hum             False\n",
       "wind_speed      False\n",
       "weather_code    False\n",
       "is_holiday      False\n",
       "is_weekend      False\n",
       "season          False\n",
       "dtype: bool"
      ]
     },
     "execution_count": 24,
     "metadata": {},
     "output_type": "execute_result"
    }
   ],
   "source": [
    "data.shape\n",
    "data.isnull().any()"
   ]
  },
  {
   "cell_type": "code",
   "execution_count": 25,
   "metadata": {
    "ExecuteTime": {
     "end_time": "2021-10-08T02:20:57.544853Z",
     "start_time": "2021-10-08T02:20:57.532248Z"
    }
   },
   "outputs": [
    {
     "data": {
      "text/html": [
       "<div>\n",
       "<style scoped>\n",
       "    .dataframe tbody tr th:only-of-type {\n",
       "        vertical-align: middle;\n",
       "    }\n",
       "\n",
       "    .dataframe tbody tr th {\n",
       "        vertical-align: top;\n",
       "    }\n",
       "\n",
       "    .dataframe thead th {\n",
       "        text-align: right;\n",
       "    }\n",
       "</style>\n",
       "<table border=\"1\" class=\"dataframe\">\n",
       "  <thead>\n",
       "    <tr style=\"text-align: right;\">\n",
       "      <th></th>\n",
       "      <th>timestamp</th>\n",
       "      <th>cnt</th>\n",
       "      <th>t1</th>\n",
       "      <th>t2</th>\n",
       "      <th>hum</th>\n",
       "      <th>wind_speed</th>\n",
       "      <th>weather_code</th>\n",
       "      <th>is_holiday</th>\n",
       "      <th>is_weekend</th>\n",
       "      <th>season</th>\n",
       "    </tr>\n",
       "  </thead>\n",
       "  <tbody>\n",
       "    <tr>\n",
       "      <th>14464</th>\n",
       "      <td>2016-09-01 11:00:00</td>\n",
       "      <td>1205</td>\n",
       "      <td>21.0</td>\n",
       "      <td>21.0</td>\n",
       "      <td>57.0</td>\n",
       "      <td>15.0</td>\n",
       "      <td>1.0</td>\n",
       "      <td>0.0</td>\n",
       "      <td>0.0</td>\n",
       "      <td>2.0</td>\n",
       "    </tr>\n",
       "    <tr>\n",
       "      <th>6360</th>\n",
       "      <td>2015-09-27 00:00:00</td>\n",
       "      <td>745</td>\n",
       "      <td>12.0</td>\n",
       "      <td>12.0</td>\n",
       "      <td>72.0</td>\n",
       "      <td>2.0</td>\n",
       "      <td>1.0</td>\n",
       "      <td>0.0</td>\n",
       "      <td>1.0</td>\n",
       "      <td>2.0</td>\n",
       "    </tr>\n",
       "    <tr>\n",
       "      <th>651</th>\n",
       "      <td>2015-01-31 04:00:00</td>\n",
       "      <td>96</td>\n",
       "      <td>2.0</td>\n",
       "      <td>-2.5</td>\n",
       "      <td>81.0</td>\n",
       "      <td>18.0</td>\n",
       "      <td>3.0</td>\n",
       "      <td>0.0</td>\n",
       "      <td>1.0</td>\n",
       "      <td>3.0</td>\n",
       "    </tr>\n",
       "    <tr>\n",
       "      <th>6549</th>\n",
       "      <td>2015-10-04 21:00:00</td>\n",
       "      <td>578</td>\n",
       "      <td>13.0</td>\n",
       "      <td>13.0</td>\n",
       "      <td>79.5</td>\n",
       "      <td>16.0</td>\n",
       "      <td>1.0</td>\n",
       "      <td>0.0</td>\n",
       "      <td>1.0</td>\n",
       "      <td>2.0</td>\n",
       "    </tr>\n",
       "    <tr>\n",
       "      <th>6079</th>\n",
       "      <td>2015-09-15 06:00:00</td>\n",
       "      <td>590</td>\n",
       "      <td>12.0</td>\n",
       "      <td>12.0</td>\n",
       "      <td>77.0</td>\n",
       "      <td>21.0</td>\n",
       "      <td>7.0</td>\n",
       "      <td>0.0</td>\n",
       "      <td>0.0</td>\n",
       "      <td>2.0</td>\n",
       "    </tr>\n",
       "  </tbody>\n",
       "</table>\n",
       "</div>"
      ],
      "text/plain": [
       "                 timestamp   cnt    t1    t2   hum  wind_speed  weather_code  \\\n",
       "14464  2016-09-01 11:00:00  1205  21.0  21.0  57.0        15.0           1.0   \n",
       "6360   2015-09-27 00:00:00   745  12.0  12.0  72.0         2.0           1.0   \n",
       "651    2015-01-31 04:00:00    96   2.0  -2.5  81.0        18.0           3.0   \n",
       "6549   2015-10-04 21:00:00   578  13.0  13.0  79.5        16.0           1.0   \n",
       "6079   2015-09-15 06:00:00   590  12.0  12.0  77.0        21.0           7.0   \n",
       "\n",
       "       is_holiday  is_weekend  season  \n",
       "14464         0.0         0.0     2.0  \n",
       "6360          0.0         1.0     2.0  \n",
       "651           0.0         1.0     3.0  \n",
       "6549          0.0         1.0     2.0  \n",
       "6079          0.0         0.0     2.0  "
      ]
     },
     "execution_count": 25,
     "metadata": {},
     "output_type": "execute_result"
    }
   ],
   "source": [
    "data.sample(5)"
   ]
  },
  {
   "cell_type": "code",
   "execution_count": 26,
   "metadata": {
    "ExecuteTime": {
     "end_time": "2021-10-08T02:20:58.568228Z",
     "start_time": "2021-10-08T02:20:58.555249Z"
    }
   },
   "outputs": [
    {
     "name": "stdout",
     "output_type": "stream",
     "text": [
      "<class 'pandas.core.frame.DataFrame'>\n",
      "RangeIndex: 17414 entries, 0 to 17413\n",
      "Data columns (total 10 columns):\n",
      " #   Column        Non-Null Count  Dtype         \n",
      "---  ------        --------------  -----         \n",
      " 0   timestamp     17414 non-null  datetime64[ns]\n",
      " 1   cnt           17414 non-null  int64         \n",
      " 2   t1            17414 non-null  float64       \n",
      " 3   t2            17414 non-null  float64       \n",
      " 4   hum           17414 non-null  float64       \n",
      " 5   wind_speed    17414 non-null  float64       \n",
      " 6   weather_code  17414 non-null  float64       \n",
      " 7   is_holiday    17414 non-null  float64       \n",
      " 8   is_weekend    17414 non-null  float64       \n",
      " 9   season        17414 non-null  float64       \n",
      "dtypes: datetime64[ns](1), float64(8), int64(1)\n",
      "memory usage: 1.3 MB\n"
     ]
    }
   ],
   "source": [
    "data[\"timestamp\"] = pd.to_datetime(data[\"timestamp\"])\n",
    "data.info()"
   ]
  },
  {
   "cell_type": "code",
   "execution_count": 27,
   "metadata": {
    "ExecuteTime": {
     "end_time": "2021-10-08T02:20:59.475566Z",
     "start_time": "2021-10-08T02:20:59.470498Z"
    }
   },
   "outputs": [
    {
     "data": {
      "text/plain": [
       "([0.0, 1.0, 2.0, 3.0], [1.0, 2.0, 3.0, 4.0, 7.0, 10.0, 26.0])"
      ]
     },
     "execution_count": 27,
     "metadata": {},
     "output_type": "execute_result"
    }
   ],
   "source": [
    "sorted(data['season'].unique()),sorted(data['weather_code'].unique())"
   ]
  },
  {
   "cell_type": "code",
   "execution_count": 28,
   "metadata": {
    "ExecuteTime": {
     "end_time": "2021-10-08T02:21:03.428611Z",
     "start_time": "2021-10-08T02:21:03.031657Z"
    }
   },
   "outputs": [
    {
     "data": {
      "text/plain": [
       "<matplotlib.axes._subplots.AxesSubplot at 0x7fc56e862410>"
      ]
     },
     "execution_count": 28,
     "metadata": {},
     "output_type": "execute_result"
    },
    {
     "data": {
      "image/png": "[encoded data removed]",
      "text/plain": [
       "<Figure size 1152x360 with 2 Axes>"
      ]
     },
     "metadata": {
      "needs_background": "light"
     },
     "output_type": "display_data"
    }
   ],
   "source": [
    "import seaborn as sns\n",
    "correlation_matrix = data.corr().round(2)\n",
    "plt.figure(figsize = (16,5))\n",
    "sns.heatmap(data=correlation_matrix, annot=True)"
   ]
  },
  {
   "cell_type": "code",
   "execution_count": 44,
   "metadata": {
    "ExecuteTime": {
     "end_time": "2021-10-08T02:37:45.367834Z",
     "start_time": "2021-10-08T02:37:45.024730Z"
    }
   },
   "outputs": [
    {
     "name": "stdout",
     "output_type": "stream",
     "text": [
      "    VIF Factor                 features\n",
      "0    79.139555                Intercept\n",
      "1     1.338807   C(weather_code)[T.2.0]\n",
      "2     1.447794   C(weather_code)[T.3.0]\n",
      "3     1.231866   C(weather_code)[T.4.0]\n",
      "4     1.470471   C(weather_code)[T.7.0]\n",
      "5     1.003010  C(weather_code)[T.10.0]\n",
      "6     1.023318  C(weather_code)[T.26.0]\n",
      "7     1.027471     C(is_holiday)[T.1.0]\n",
      "8     1.017796     C(is_weekend)[T.1.0]\n",
      "9     2.439167         C(season)[T.1.0]\n",
      "10    1.764904         C(season)[T.2.0]\n",
      "11    1.670345         C(season)[T.3.0]\n",
      "12    2.611878                       t1\n",
      "13    1.869471                      hum\n",
      "14    1.291169               wind_speed\n"
     ]
    }
   ],
   "source": [
    "# VIF\n",
    "from statsmodels.stats.outliers_influence import variance_inflation_factor\n",
    "from patsy import dmatrices\n",
    "y, X = dmatrices('cnt~t1+hum+wind_speed+C(weather_code)+C(is_holiday)+C(is_weekend)+C(season)', data=data, return_type='dataframe')\n",
    "\n",
    "vif = pd.DataFrame()\n",
    "vif[\"VIF Factor\"] = [variance_inflation_factor(X.values, i) for i in range(X.shape[1])]\n",
    "vif[\"features\"] = X.columns\n",
    "print(vif)"
   ]
  },
  {
   "cell_type": "code",
   "execution_count": 29,
   "metadata": {
    "ExecuteTime": {
     "end_time": "2021-10-08T02:21:06.152143Z",
     "start_time": "2021-10-08T02:21:06.030885Z"
    }
   },
   "outputs": [
    {
     "data": {
      "image/png": "[encoded data removed]",
      "text/plain": [
       "<Figure size 432x288 with 1 Axes>"
      ]
     },
     "metadata": {
      "needs_background": "light"
     },
     "output_type": "display_data"
    }
   ],
   "source": [
    "fig, ax = plt.subplots(figsize=(6,4))\n",
    "ax.hist(data['wind_speed'])\n",
    "ax.set_xlabel(\"wind_speed\")\n",
    "plt.show()"
   ]
  },
  {
   "cell_type": "code",
   "execution_count": 39,
   "metadata": {
    "ExecuteTime": {
     "end_time": "2021-10-08T02:30:46.470093Z",
     "start_time": "2021-10-08T02:30:46.230923Z"
    }
   },
   "outputs": [
    {
     "data": {
      "text/plain": [
       "<matplotlib.collections.PathCollection at 0x7fc56db3ec10>"
      ]
     },
     "execution_count": 39,
     "metadata": {},
     "output_type": "execute_result"
    },
    {
     "data": {
      "image/png": "[encoded data removed]",
      "text/plain": [
       "<Figure size 432x288 with 1 Axes>"
      ]
     },
     "metadata": {
      "needs_background": "light"
     },
     "output_type": "display_data"
    }
   ],
   "source": [
    "plt.xlabel('humidity')\n",
    "plt.ylabel('the count of a new bike shares')\n",
    "plt.scatter(data.hum,data.cnt,color='blue')"
   ]
  },
  {
   "cell_type": "code",
   "execution_count": 40,
   "metadata": {
    "ExecuteTime": {
     "end_time": "2021-10-08T02:31:10.099539Z",
     "start_time": "2021-10-08T02:31:09.868251Z"
    }
   },
   "outputs": [
    {
     "data": {
      "text/plain": [
       "<matplotlib.collections.PathCollection at 0x7fc58a48bb10>"
      ]
     },
     "execution_count": 40,
     "metadata": {},
     "output_type": "execute_result"
    },
    {
     "data": {
      "image/png": "[encoded data removed]",
      "text/plain": [
       "<Figure size 432x288 with 1 Axes>"
      ]
     },
     "metadata": {
      "needs_background": "light"
     },
     "output_type": "display_data"
    }
   ],
   "source": [
    "plt.xlabel('temperature')\n",
    "plt.ylabel('the count of a new bike shares')\n",
    "plt.scatter(data.t1,data.cnt,color='blue')"
   ]
  },
  {
   "cell_type": "code",
   "execution_count": 33,
   "metadata": {
    "ExecuteTime": {
     "end_time": "2021-10-08T02:23:51.899861Z",
     "start_time": "2021-10-08T02:23:51.621092Z"
    }
   },
   "outputs": [
    {
     "data": {
      "text/html": [
       "<table class=\"simpletable\">\n",
       "<caption>OLS Regression Results</caption>\n",
       "<tr>\n",
       "  <th>Dep. Variable:</th>           <td>cnt</td>       <th>  R-squared:         </th>  <td>   0.290</td>  \n",
       "</tr>\n",
       "<tr>\n",
       "  <th>Model:</th>                   <td>OLS</td>       <th>  Adj. R-squared:    </th>  <td>   0.289</td>  \n",
       "</tr>\n",
       "<tr>\n",
       "  <th>Method:</th>             <td>Least Squares</td>  <th>  F-statistic:       </th>  <td>   506.6</td>  \n",
       "</tr>\n",
       "<tr>\n",
       "  <th>Date:</th>             <td>Thu, 07 Oct 2021</td> <th>  Prob (F-statistic):</th>   <td>  0.00</td>   \n",
       "</tr>\n",
       "<tr>\n",
       "  <th>Time:</th>                 <td>19:23:51</td>     <th>  Log-Likelihood:    </th> <td>-1.4345e+05</td>\n",
       "</tr>\n",
       "<tr>\n",
       "  <th>No. Observations:</th>      <td> 17414</td>      <th>  AIC:               </th>  <td>2.869e+05</td> \n",
       "</tr>\n",
       "<tr>\n",
       "  <th>Df Residuals:</th>          <td> 17399</td>      <th>  BIC:               </th>  <td>2.870e+05</td> \n",
       "</tr>\n",
       "<tr>\n",
       "  <th>Df Model:</th>              <td>    14</td>      <th>                     </th>      <td> </td>     \n",
       "</tr>\n",
       "<tr>\n",
       "  <th>Covariance Type:</th>      <td>nonrobust</td>    <th>                     </th>      <td> </td>     \n",
       "</tr>\n",
       "</table>\n",
       "<table class=\"simpletable\">\n",
       "<tr>\n",
       "             <td></td>                <th>coef</th>     <th>std err</th>      <th>t</th>      <th>P>|t|</th>  <th>[0.025</th>    <th>0.975]</th>  \n",
       "</tr>\n",
       "<tr>\n",
       "  <th>Intercept</th>               <td> 2561.0622</td> <td>   61.680</td> <td>   41.522</td> <td> 0.000</td> <td> 2440.163</td> <td> 2681.962</td>\n",
       "</tr>\n",
       "<tr>\n",
       "  <th>C(weather_code)[T.2.0]</th>  <td>  280.1987</td> <td>   19.016</td> <td>   14.735</td> <td> 0.000</td> <td>  242.926</td> <td>  317.471</td>\n",
       "</tr>\n",
       "<tr>\n",
       "  <th>C(weather_code)[T.3.0]</th>  <td>  278.8253</td> <td>   20.706</td> <td>   13.466</td> <td> 0.000</td> <td>  238.239</td> <td>  319.411</td>\n",
       "</tr>\n",
       "<tr>\n",
       "  <th>C(weather_code)[T.4.0]</th>  <td>  -97.0909</td> <td>   27.732</td> <td>   -3.501</td> <td> 0.000</td> <td> -151.448</td> <td>  -42.734</td>\n",
       "</tr>\n",
       "<tr>\n",
       "  <th>C(weather_code)[T.7.0]</th>  <td>    5.0129</td> <td>   25.604</td> <td>    0.196</td> <td> 0.845</td> <td>  -45.173</td> <td>   55.199</td>\n",
       "</tr>\n",
       "<tr>\n",
       "  <th>C(weather_code)[T.10.0]</th> <td> -389.2944</td> <td>  244.998</td> <td>   -1.589</td> <td> 0.112</td> <td> -869.515</td> <td>   90.926</td>\n",
       "</tr>\n",
       "<tr>\n",
       "  <th>C(weather_code)[T.26.0]</th> <td>   27.2601</td> <td>  119.696</td> <td>    0.228</td> <td> 0.820</td> <td> -207.355</td> <td>  261.875</td>\n",
       "</tr>\n",
       "<tr>\n",
       "  <th>C(is_holiday)[T.1.0]</th>    <td> -259.2138</td> <td>   47.859</td> <td>   -5.416</td> <td> 0.000</td> <td> -353.021</td> <td> -165.406</td>\n",
       "</tr>\n",
       "<tr>\n",
       "  <th>C(is_weekend)[T.1.0]</th>    <td> -198.7065</td> <td>   15.489</td> <td>  -12.829</td> <td> 0.000</td> <td> -229.066</td> <td> -168.347</td>\n",
       "</tr>\n",
       "<tr>\n",
       "  <th>C(season)[T.1.0]</th>        <td> -123.8729</td> <td>   24.944</td> <td>   -4.966</td> <td> 0.000</td> <td> -172.765</td> <td>  -74.980</td>\n",
       "</tr>\n",
       "<tr>\n",
       "  <th>C(season)[T.2.0]</th>        <td>  113.7921</td> <td>   21.355</td> <td>    5.329</td> <td> 0.000</td> <td>   71.934</td> <td>  155.651</td>\n",
       "</tr>\n",
       "<tr>\n",
       "  <th>C(season)[T.3.0]</th>        <td>  135.4103</td> <td>   20.732</td> <td>    6.532</td> <td> 0.000</td> <td>   94.774</td> <td>  176.047</td>\n",
       "</tr>\n",
       "<tr>\n",
       "  <th>t1</th>                      <td>   52.8609</td> <td>    2.011</td> <td>   26.284</td> <td> 0.000</td> <td>   48.919</td> <td>   56.803</td>\n",
       "</tr>\n",
       "<tr>\n",
       "  <th>hum</th>                     <td>  -28.1949</td> <td>    0.662</td> <td>  -42.568</td> <td> 0.000</td> <td>  -29.493</td> <td>  -26.897</td>\n",
       "</tr>\n",
       "<tr>\n",
       "  <th>wind_speed</th>              <td>   -7.5405</td> <td>    0.998</td> <td>   -7.556</td> <td> 0.000</td> <td>   -9.497</td> <td>   -5.584</td>\n",
       "</tr>\n",
       "</table>\n",
       "<table class=\"simpletable\">\n",
       "<tr>\n",
       "  <th>Omnibus:</th>       <td>4812.852</td> <th>  Durbin-Watson:     </th> <td>   0.630</td> \n",
       "</tr>\n",
       "<tr>\n",
       "  <th>Prob(Omnibus):</th>  <td> 0.000</td>  <th>  Jarque-Bera (JB):  </th> <td>12224.414</td>\n",
       "</tr>\n",
       "<tr>\n",
       "  <th>Skew:</th>           <td> 1.515</td>  <th>  Prob(JB):          </th> <td>    0.00</td> \n",
       "</tr>\n",
       "<tr>\n",
       "  <th>Kurtosis:</th>       <td> 5.768</td>  <th>  Cond. No.          </th> <td>2.69e+03</td> \n",
       "</tr>\n",
       "</table><br/><br/>Warnings:<br/>[1] Standard Errors assume that the covariance matrix of the errors is correctly specified.<br/>[2] The condition number is large, 2.69e+03. This might indicate that there are<br/>strong multicollinearity or other numerical problems."
      ],
      "text/plain": [
       "<class 'statsmodels.iolib.summary.Summary'>\n",
       "\"\"\"\n",
       "                            OLS Regression Results                            \n",
       "==============================================================================\n",
       "Dep. Variable:                    cnt   R-squared:                       0.290\n",
       "Model:                            OLS   Adj. R-squared:                  0.289\n",
       "Method:                 Least Squares   F-statistic:                     506.6\n",
       "Date:                Thu, 07 Oct 2021   Prob (F-statistic):               0.00\n",
       "Time:                        19:23:51   Log-Likelihood:            -1.4345e+05\n",
       "No. Observations:               17414   AIC:                         2.869e+05\n",
       "Df Residuals:                   17399   BIC:                         2.870e+05\n",
       "Df Model:                          14                                         \n",
       "Covariance Type:            nonrobust                                         \n",
       "===========================================================================================\n",
       "                              coef    std err          t      P>|t|      [0.025      0.975]\n",
       "-------------------------------------------------------------------------------------------\n",
       "Intercept                2561.0622     61.680     41.522      0.000    2440.163    2681.962\n",
       "C(weather_code)[T.2.0]    280.1987     19.016     14.735      0.000     242.926     317.471\n",
       "C(weather_code)[T.3.0]    278.8253     20.706     13.466      0.000     238.239     319.411\n",
       "C(weather_code)[T.4.0]    -97.0909     27.732     -3.501      0.000    -151.448     -42.734\n",
       "C(weather_code)[T.7.0]      5.0129     25.604      0.196      0.845     -45.173      55.199\n",
       "C(weather_code)[T.10.0]  -389.2944    244.998     -1.589      0.112    -869.515      90.926\n",
       "C(weather_code)[T.26.0]    27.2601    119.696      0.228      0.820    -207.355     261.875\n",
       "C(is_holiday)[T.1.0]     -259.2138     47.859     -5.416      0.000    -353.021    -165.406\n",
       "C(is_weekend)[T.1.0]     -198.7065     15.489    -12.829      0.000    -229.066    -168.347\n",
       "C(season)[T.1.0]         -123.8729     24.944     -4.966      0.000    -172.765     -74.980\n",
       "C(season)[T.2.0]          113.7921     21.355      5.329      0.000      71.934     155.651\n",
       "C(season)[T.3.0]          135.4103     20.732      6.532      0.000      94.774     176.047\n",
       "t1                         52.8609      2.011     26.284      0.000      48.919      56.803\n",
       "hum                       -28.1949      0.662    -42.568      0.000     -29.493     -26.897\n",
       "wind_speed                 -7.5405      0.998     -7.556      0.000      -9.497      -5.584\n",
       "==============================================================================\n",
       "Omnibus:                     4812.852   Durbin-Watson:                   0.630\n",
       "Prob(Omnibus):                  0.000   Jarque-Bera (JB):            12224.414\n",
       "Skew:                           1.515   Prob(JB):                         0.00\n",
       "Kurtosis:                       5.768   Cond. No.                     2.69e+03\n",
       "==============================================================================\n",
       "\n",
       "Warnings:\n",
       "[1] Standard Errors assume that the covariance matrix of the errors is correctly specified.\n",
       "[2] The condition number is large, 2.69e+03. This might indicate that there are\n",
       "strong multicollinearity or other numerical problems.\n",
       "\"\"\""
      ]
     },
     "execution_count": 33,
     "metadata": {},
     "output_type": "execute_result"
    }
   ],
   "source": [
    "# delete the variable t2\n",
    "# fit the model\n",
    "model =smf.ols('cnt~t1+hum+wind_speed+C(weather_code)+C(is_holiday)+C(is_weekend)+C(season)',data=data).fit()\n",
    "model.summary()"
   ]
  },
  {
   "cell_type": "code",
   "execution_count": 42,
   "metadata": {
    "ExecuteTime": {
     "end_time": "2021-10-08T02:34:57.422578Z",
     "start_time": "2021-10-08T02:34:57.394950Z"
    }
   },
   "outputs": [
    {
     "data": {
      "text/html": [
       "<div>\n",
       "<style scoped>\n",
       "    .dataframe tbody tr th:only-of-type {\n",
       "        vertical-align: middle;\n",
       "    }\n",
       "\n",
       "    .dataframe tbody tr th {\n",
       "        vertical-align: top;\n",
       "    }\n",
       "\n",
       "    .dataframe thead th {\n",
       "        text-align: right;\n",
       "    }\n",
       "</style>\n",
       "<table border=\"1\" class=\"dataframe\">\n",
       "  <thead>\n",
       "    <tr style=\"text-align: right;\">\n",
       "      <th></th>\n",
       "      <th>df</th>\n",
       "      <th>sum_sq</th>\n",
       "      <th>mean_sq</th>\n",
       "      <th>F</th>\n",
       "      <th>PR(&gt;F)</th>\n",
       "    </tr>\n",
       "  </thead>\n",
       "  <tbody>\n",
       "    <tr>\n",
       "      <th>C(weather_code)</th>\n",
       "      <td>6.0</td>\n",
       "      <td>1.340602e+09</td>\n",
       "      <td>2.234336e+08</td>\n",
       "      <td>266.901330</td>\n",
       "      <td>0.000000e+00</td>\n",
       "    </tr>\n",
       "    <tr>\n",
       "      <th>C(is_holiday)</th>\n",
       "      <td>1.0</td>\n",
       "      <td>4.670732e+07</td>\n",
       "      <td>4.670732e+07</td>\n",
       "      <td>55.793956</td>\n",
       "      <td>8.428578e-14</td>\n",
       "    </tr>\n",
       "    <tr>\n",
       "      <th>C(is_weekend)</th>\n",
       "      <td>1.0</td>\n",
       "      <td>1.440971e+08</td>\n",
       "      <td>1.440971e+08</td>\n",
       "      <td>172.130387</td>\n",
       "      <td>3.887741e-39</td>\n",
       "    </tr>\n",
       "    <tr>\n",
       "      <th>C(season)</th>\n",
       "      <td>3.0</td>\n",
       "      <td>6.951784e+08</td>\n",
       "      <td>2.317261e+08</td>\n",
       "      <td>276.807075</td>\n",
       "      <td>1.582626e-175</td>\n",
       "    </tr>\n",
       "    <tr>\n",
       "      <th>t1</th>\n",
       "      <td>1.0</td>\n",
       "      <td>2.168369e+09</td>\n",
       "      <td>2.168369e+09</td>\n",
       "      <td>2590.212815</td>\n",
       "      <td>0.000000e+00</td>\n",
       "    </tr>\n",
       "    <tr>\n",
       "      <th>hum</th>\n",
       "      <td>1.0</td>\n",
       "      <td>1.494968e+09</td>\n",
       "      <td>1.494968e+09</td>\n",
       "      <td>1785.805003</td>\n",
       "      <td>0.000000e+00</td>\n",
       "    </tr>\n",
       "    <tr>\n",
       "      <th>wind_speed</th>\n",
       "      <td>1.0</td>\n",
       "      <td>4.779105e+07</td>\n",
       "      <td>4.779105e+07</td>\n",
       "      <td>57.088521</td>\n",
       "      <td>4.372701e-14</td>\n",
       "    </tr>\n",
       "    <tr>\n",
       "      <th>Residual</th>\n",
       "      <td>17399.0</td>\n",
       "      <td>1.456539e+10</td>\n",
       "      <td>8.371395e+05</td>\n",
       "      <td>NaN</td>\n",
       "      <td>NaN</td>\n",
       "    </tr>\n",
       "  </tbody>\n",
       "</table>\n",
       "</div>"
      ],
      "text/plain": [
       "                      df        sum_sq       mean_sq            F  \\\n",
       "C(weather_code)      6.0  1.340602e+09  2.234336e+08   266.901330   \n",
       "C(is_holiday)        1.0  4.670732e+07  4.670732e+07    55.793956   \n",
       "C(is_weekend)        1.0  1.440971e+08  1.440971e+08   172.130387   \n",
       "C(season)            3.0  6.951784e+08  2.317261e+08   276.807075   \n",
       "t1                   1.0  2.168369e+09  2.168369e+09  2590.212815   \n",
       "hum                  1.0  1.494968e+09  1.494968e+09  1785.805003   \n",
       "wind_speed           1.0  4.779105e+07  4.779105e+07    57.088521   \n",
       "Residual         17399.0  1.456539e+10  8.371395e+05          NaN   \n",
       "\n",
       "                        PR(>F)  \n",
       "C(weather_code)   0.000000e+00  \n",
       "C(is_holiday)     8.428578e-14  \n",
       "C(is_weekend)     3.887741e-39  \n",
       "C(season)        1.582626e-175  \n",
       "t1                0.000000e+00  \n",
       "hum               0.000000e+00  \n",
       "wind_speed        4.372701e-14  \n",
       "Residual                   NaN  "
      ]
     },
     "execution_count": 42,
     "metadata": {},
     "output_type": "execute_result"
    }
   ],
   "source": [
    "sm.stats.anova_lm(model, typ=1)"
   ]
  },
  {
   "cell_type": "code",
   "execution_count": 46,
   "metadata": {
    "ExecuteTime": {
     "end_time": "2021-10-08T02:42:50.122839Z",
     "start_time": "2021-10-08T02:42:50.095877Z"
    }
   },
   "outputs": [
    {
     "data": {
      "text/html": [
       "<div>\n",
       "<style scoped>\n",
       "    .dataframe tbody tr th:only-of-type {\n",
       "        vertical-align: middle;\n",
       "    }\n",
       "\n",
       "    .dataframe tbody tr th {\n",
       "        vertical-align: top;\n",
       "    }\n",
       "\n",
       "    .dataframe thead th {\n",
       "        text-align: right;\n",
       "    }\n",
       "</style>\n",
       "<table border=\"1\" class=\"dataframe\">\n",
       "  <thead>\n",
       "    <tr style=\"text-align: right;\">\n",
       "      <th></th>\n",
       "      <th>sum_sq</th>\n",
       "      <th>df</th>\n",
       "      <th>F</th>\n",
       "      <th>PR(&gt;F)</th>\n",
       "    </tr>\n",
       "  </thead>\n",
       "  <tbody>\n",
       "    <tr>\n",
       "      <th>Intercept</th>\n",
       "      <td>1.443262e+09</td>\n",
       "      <td>1.0</td>\n",
       "      <td>1724.040153</td>\n",
       "      <td>0.000000e+00</td>\n",
       "    </tr>\n",
       "    <tr>\n",
       "      <th>C(weather_code)</th>\n",
       "      <td>3.656272e+08</td>\n",
       "      <td>6.0</td>\n",
       "      <td>72.792963</td>\n",
       "      <td>4.898383e-90</td>\n",
       "    </tr>\n",
       "    <tr>\n",
       "      <th>C(is_holiday)</th>\n",
       "      <td>2.455807e+07</td>\n",
       "      <td>1.0</td>\n",
       "      <td>29.335699</td>\n",
       "      <td>6.167170e-08</td>\n",
       "    </tr>\n",
       "    <tr>\n",
       "      <th>C(is_weekend)</th>\n",
       "      <td>1.377785e+08</td>\n",
       "      <td>1.0</td>\n",
       "      <td>164.582447</td>\n",
       "      <td>1.669304e-37</td>\n",
       "    </tr>\n",
       "    <tr>\n",
       "      <th>C(season)</th>\n",
       "      <td>1.209438e+08</td>\n",
       "      <td>3.0</td>\n",
       "      <td>48.157573</td>\n",
       "      <td>5.504405e-31</td>\n",
       "    </tr>\n",
       "    <tr>\n",
       "      <th>t1</th>\n",
       "      <td>5.783403e+08</td>\n",
       "      <td>1.0</td>\n",
       "      <td>690.852925</td>\n",
       "      <td>2.371478e-149</td>\n",
       "    </tr>\n",
       "    <tr>\n",
       "      <th>hum</th>\n",
       "      <td>1.516944e+09</td>\n",
       "      <td>1.0</td>\n",
       "      <td>1812.056539</td>\n",
       "      <td>0.000000e+00</td>\n",
       "    </tr>\n",
       "    <tr>\n",
       "      <th>wind_speed</th>\n",
       "      <td>4.779105e+07</td>\n",
       "      <td>1.0</td>\n",
       "      <td>57.088521</td>\n",
       "      <td>4.372701e-14</td>\n",
       "    </tr>\n",
       "    <tr>\n",
       "      <th>Residual</th>\n",
       "      <td>1.456539e+10</td>\n",
       "      <td>17399.0</td>\n",
       "      <td>NaN</td>\n",
       "      <td>NaN</td>\n",
       "    </tr>\n",
       "  </tbody>\n",
       "</table>\n",
       "</div>"
      ],
      "text/plain": [
       "                       sum_sq       df            F         PR(>F)\n",
       "Intercept        1.443262e+09      1.0  1724.040153   0.000000e+00\n",
       "C(weather_code)  3.656272e+08      6.0    72.792963   4.898383e-90\n",
       "C(is_holiday)    2.455807e+07      1.0    29.335699   6.167170e-08\n",
       "C(is_weekend)    1.377785e+08      1.0   164.582447   1.669304e-37\n",
       "C(season)        1.209438e+08      3.0    48.157573   5.504405e-31\n",
       "t1               5.783403e+08      1.0   690.852925  2.371478e-149\n",
       "hum              1.516944e+09      1.0  1812.056539   0.000000e+00\n",
       "wind_speed       4.779105e+07      1.0    57.088521   4.372701e-14\n",
       "Residual         1.456539e+10  17399.0          NaN            NaN"
      ]
     },
     "execution_count": 46,
     "metadata": {},
     "output_type": "execute_result"
    }
   ],
   "source": [
    "sm.stats.anova_lm(model, typ=3)"
   ]
  },
  {
   "cell_type": "code",
   "execution_count": null,
   "metadata": {},
   "outputs": [],
   "source": []
  }
 ],
 "metadata": {
  "kernelspec": {
   "display_name": "Python 3",
   "language": "python",
   "name": "python3"
  },
  "language_info": {
   "codemirror_mode": {
    "name": "ipython",
    "version": 3
   },
   "file_extension": ".py",
   "mimetype": "text/x-python",
   "name": "python",
   "nbconvert_exporter": "python",
   "pygments_lexer": "ipython3",
   "version": "3.7.6"
  },
  "toc": {
   "base_numbering": 1,
   "nav_menu": {},
   "number_sections": true,
   "sideBar": true,
   "skip_h1_title": false,
   "title_cell": "Table of Contents",
   "title_sidebar": "Contents",
   "toc_cell": false,
   "toc_position": {},
   "toc_section_display": true,
   "toc_window_display": false
  },
  "varInspector": {
   "cols": {
    "lenName": 16,
    "lenType": 16,
    "lenVar": 40
   },
   "kernels_config": {
    "python": {
     "delete_cmd_postfix": "",
     "delete_cmd_prefix": "del ",
     "library": "var_list.py",
     "varRefreshCmd": "print(var_dic_list())"
    },
    "r": {
     "delete_cmd_postfix": ") ",
     "delete_cmd_prefix": "rm(",
     "library": "var_list.r",
     "varRefreshCmd": "cat(var_dic_list()) "
    }
   },
   "types_to_exclude": [
    "module",
    "function",
    "builtin_function_or_method",
    "instance",
    "_Feature"
   ],
   "window_display": false
  }
 },
 "nbformat": 4,
 "nbformat_minor": 4
}
